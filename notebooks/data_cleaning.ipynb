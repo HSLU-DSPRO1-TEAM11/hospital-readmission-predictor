{
 "cells": [
  {
   "metadata": {},
   "cell_type": "markdown",
   "source": "**This notebook is used for data cleaning and reasoning, the final file with just cleaning is under src/datacleaning.py**",
   "id": "b7d62993acd2b0d5"
  },
  {
   "metadata": {
    "collapsed": true,
    "ExecuteTime": {
     "end_time": "2025-10-17T12:01:54.136418Z",
     "start_time": "2025-10-17T12:01:54.133317Z"
    }
   },
   "cell_type": "code",
   "source": [
    "import pandas as pd\n",
    "import numpy as np\n",
    "import matplotlib.pyplot as plt"
   ],
   "id": "5fc246a443952cd",
   "outputs": [],
   "execution_count": 140
  },
  {
   "metadata": {
    "ExecuteTime": {
     "end_time": "2025-10-17T12:01:55.986372Z",
     "start_time": "2025-10-17T12:01:55.529907Z"
    }
   },
   "cell_type": "code",
   "source": [
    "df_data = pd.read_csv(\"../data/raw/diabetic_data.csv\")\n",
    "df_mapping = pd.read_csv(\"../data/raw/IDS_mapping.csv\", header=None, names=[\"C1\", \"C2\"])\n",
    "\n",
    "print(df_data.info())\n",
    "print(df_mapping.info())"
   ],
   "id": "d80f90d417b85229",
   "outputs": [
    {
     "name": "stdout",
     "output_type": "stream",
     "text": [
      "<class 'pandas.core.frame.DataFrame'>\n",
      "RangeIndex: 101766 entries, 0 to 101765\n",
      "Data columns (total 50 columns):\n",
      " #   Column                    Non-Null Count   Dtype \n",
      "---  ------                    --------------   ----- \n",
      " 0   encounter_id              101766 non-null  int64 \n",
      " 1   patient_nbr               101766 non-null  int64 \n",
      " 2   race                      101766 non-null  object\n",
      " 3   gender                    101766 non-null  object\n",
      " 4   age                       101766 non-null  object\n",
      " 5   weight                    101766 non-null  object\n",
      " 6   admission_type_id         101766 non-null  int64 \n",
      " 7   discharge_disposition_id  101766 non-null  int64 \n",
      " 8   admission_source_id       101766 non-null  int64 \n",
      " 9   time_in_hospital          101766 non-null  int64 \n",
      " 10  payer_code                101766 non-null  object\n",
      " 11  medical_specialty         101766 non-null  object\n",
      " 12  num_lab_procedures        101766 non-null  int64 \n",
      " 13  num_procedures            101766 non-null  int64 \n",
      " 14  num_medications           101766 non-null  int64 \n",
      " 15  number_outpatient         101766 non-null  int64 \n",
      " 16  number_emergency          101766 non-null  int64 \n",
      " 17  number_inpatient          101766 non-null  int64 \n",
      " 18  diag_1                    101766 non-null  object\n",
      " 19  diag_2                    101766 non-null  object\n",
      " 20  diag_3                    101766 non-null  object\n",
      " 21  number_diagnoses          101766 non-null  int64 \n",
      " 22  max_glu_serum             5346 non-null    object\n",
      " 23  A1Cresult                 17018 non-null   object\n",
      " 24  metformin                 101766 non-null  object\n",
      " 25  repaglinide               101766 non-null  object\n",
      " 26  nateglinide               101766 non-null  object\n",
      " 27  chlorpropamide            101766 non-null  object\n",
      " 28  glimepiride               101766 non-null  object\n",
      " 29  acetohexamide             101766 non-null  object\n",
      " 30  glipizide                 101766 non-null  object\n",
      " 31  glyburide                 101766 non-null  object\n",
      " 32  tolbutamide               101766 non-null  object\n",
      " 33  pioglitazone              101766 non-null  object\n",
      " 34  rosiglitazone             101766 non-null  object\n",
      " 35  acarbose                  101766 non-null  object\n",
      " 36  miglitol                  101766 non-null  object\n",
      " 37  troglitazone              101766 non-null  object\n",
      " 38  tolazamide                101766 non-null  object\n",
      " 39  examide                   101766 non-null  object\n",
      " 40  citoglipton               101766 non-null  object\n",
      " 41  insulin                   101766 non-null  object\n",
      " 42  glyburide-metformin       101766 non-null  object\n",
      " 43  glipizide-metformin       101766 non-null  object\n",
      " 44  glimepiride-pioglitazone  101766 non-null  object\n",
      " 45  metformin-rosiglitazone   101766 non-null  object\n",
      " 46  metformin-pioglitazone    101766 non-null  object\n",
      " 47  change                    101766 non-null  object\n",
      " 48  diabetesMed               101766 non-null  object\n",
      " 49  readmitted                101766 non-null  object\n",
      "dtypes: int64(13), object(37)\n",
      "memory usage: 38.8+ MB\n",
      "None\n",
      "<class 'pandas.core.frame.DataFrame'>\n",
      "RangeIndex: 68 entries, 0 to 67\n",
      "Data columns (total 2 columns):\n",
      " #   Column  Non-Null Count  Dtype \n",
      "---  ------  --------------  ----- \n",
      " 0   C1      66 non-null     object\n",
      " 1   C2      63 non-null     object\n",
      "dtypes: object(2)\n",
      "memory usage: 1.2+ KB\n",
      "None\n"
     ]
    }
   ],
   "execution_count": 141
  },
  {
   "metadata": {
    "ExecuteTime": {
     "end_time": "2025-10-17T12:02:00.639785Z",
     "start_time": "2025-10-17T12:02:00.629061Z"
    }
   },
   "cell_type": "code",
   "source": [
    "# Check if there are any duplicates in encounter_id, drop if no\n",
    "df_data[df_data['encounter_id'].duplicated()]"
   ],
   "id": "fe7fec699e64abfc",
   "outputs": [
    {
     "data": {
      "text/plain": [
       "Empty DataFrame\n",
       "Columns: [encounter_id, patient_nbr, race, gender, age, weight, admission_type_id, discharge_disposition_id, admission_source_id, time_in_hospital, payer_code, medical_specialty, num_lab_procedures, num_procedures, num_medications, number_outpatient, number_emergency, number_inpatient, diag_1, diag_2, diag_3, number_diagnoses, max_glu_serum, A1Cresult, metformin, repaglinide, nateglinide, chlorpropamide, glimepiride, acetohexamide, glipizide, glyburide, tolbutamide, pioglitazone, rosiglitazone, acarbose, miglitol, troglitazone, tolazamide, examide, citoglipton, insulin, glyburide-metformin, glipizide-metformin, glimepiride-pioglitazone, metformin-rosiglitazone, metformin-pioglitazone, change, diabetesMed, readmitted]\n",
       "Index: []\n",
       "\n",
       "[0 rows x 50 columns]"
      ],
      "text/html": [
       "<div>\n",
       "<style scoped>\n",
       "    .dataframe tbody tr th:only-of-type {\n",
       "        vertical-align: middle;\n",
       "    }\n",
       "\n",
       "    .dataframe tbody tr th {\n",
       "        vertical-align: top;\n",
       "    }\n",
       "\n",
       "    .dataframe thead th {\n",
       "        text-align: right;\n",
       "    }\n",
       "</style>\n",
       "<table border=\"1\" class=\"dataframe\">\n",
       "  <thead>\n",
       "    <tr style=\"text-align: right;\">\n",
       "      <th></th>\n",
       "      <th>encounter_id</th>\n",
       "      <th>patient_nbr</th>\n",
       "      <th>race</th>\n",
       "      <th>gender</th>\n",
       "      <th>age</th>\n",
       "      <th>weight</th>\n",
       "      <th>admission_type_id</th>\n",
       "      <th>discharge_disposition_id</th>\n",
       "      <th>admission_source_id</th>\n",
       "      <th>time_in_hospital</th>\n",
       "      <th>...</th>\n",
       "      <th>citoglipton</th>\n",
       "      <th>insulin</th>\n",
       "      <th>glyburide-metformin</th>\n",
       "      <th>glipizide-metformin</th>\n",
       "      <th>glimepiride-pioglitazone</th>\n",
       "      <th>metformin-rosiglitazone</th>\n",
       "      <th>metformin-pioglitazone</th>\n",
       "      <th>change</th>\n",
       "      <th>diabetesMed</th>\n",
       "      <th>readmitted</th>\n",
       "    </tr>\n",
       "  </thead>\n",
       "  <tbody>\n",
       "  </tbody>\n",
       "</table>\n",
       "<p>0 rows × 50 columns</p>\n",
       "</div>"
      ]
     },
     "execution_count": 142,
     "metadata": {},
     "output_type": "execute_result"
    }
   ],
   "execution_count": 142
  },
  {
   "metadata": {
    "ExecuteTime": {
     "end_time": "2025-10-17T12:02:01.996556Z",
     "start_time": "2025-10-17T12:02:01.939992Z"
    }
   },
   "cell_type": "code",
   "source": [
    "df_data.drop('encounter_id', axis=1, inplace=True)\n",
    "df_data.iloc[:, :5].head()  # first 5 columns"
   ],
   "id": "f64712ead3c8d83",
   "outputs": [
    {
     "data": {
      "text/plain": [
       "   patient_nbr             race  gender      age weight\n",
       "0      8222157        Caucasian  Female   [0-10)      ?\n",
       "1     55629189        Caucasian  Female  [10-20)      ?\n",
       "2     86047875  AfricanAmerican  Female  [20-30)      ?\n",
       "3     82442376        Caucasian    Male  [30-40)      ?\n",
       "4     42519267        Caucasian    Male  [40-50)      ?"
      ],
      "text/html": [
       "<div>\n",
       "<style scoped>\n",
       "    .dataframe tbody tr th:only-of-type {\n",
       "        vertical-align: middle;\n",
       "    }\n",
       "\n",
       "    .dataframe tbody tr th {\n",
       "        vertical-align: top;\n",
       "    }\n",
       "\n",
       "    .dataframe thead th {\n",
       "        text-align: right;\n",
       "    }\n",
       "</style>\n",
       "<table border=\"1\" class=\"dataframe\">\n",
       "  <thead>\n",
       "    <tr style=\"text-align: right;\">\n",
       "      <th></th>\n",
       "      <th>patient_nbr</th>\n",
       "      <th>race</th>\n",
       "      <th>gender</th>\n",
       "      <th>age</th>\n",
       "      <th>weight</th>\n",
       "    </tr>\n",
       "  </thead>\n",
       "  <tbody>\n",
       "    <tr>\n",
       "      <th>0</th>\n",
       "      <td>8222157</td>\n",
       "      <td>Caucasian</td>\n",
       "      <td>Female</td>\n",
       "      <td>[0-10)</td>\n",
       "      <td>?</td>\n",
       "    </tr>\n",
       "    <tr>\n",
       "      <th>1</th>\n",
       "      <td>55629189</td>\n",
       "      <td>Caucasian</td>\n",
       "      <td>Female</td>\n",
       "      <td>[10-20)</td>\n",
       "      <td>?</td>\n",
       "    </tr>\n",
       "    <tr>\n",
       "      <th>2</th>\n",
       "      <td>86047875</td>\n",
       "      <td>AfricanAmerican</td>\n",
       "      <td>Female</td>\n",
       "      <td>[20-30)</td>\n",
       "      <td>?</td>\n",
       "    </tr>\n",
       "    <tr>\n",
       "      <th>3</th>\n",
       "      <td>82442376</td>\n",
       "      <td>Caucasian</td>\n",
       "      <td>Male</td>\n",
       "      <td>[30-40)</td>\n",
       "      <td>?</td>\n",
       "    </tr>\n",
       "    <tr>\n",
       "      <th>4</th>\n",
       "      <td>42519267</td>\n",
       "      <td>Caucasian</td>\n",
       "      <td>Male</td>\n",
       "      <td>[40-50)</td>\n",
       "      <td>?</td>\n",
       "    </tr>\n",
       "  </tbody>\n",
       "</table>\n",
       "</div>"
      ]
     },
     "execution_count": 143,
     "metadata": {},
     "output_type": "execute_result"
    }
   ],
   "execution_count": 143
  },
  {
   "metadata": {
    "ExecuteTime": {
     "end_time": "2025-10-17T12:02:03.308652Z",
     "start_time": "2025-10-17T12:02:03.257190Z"
    }
   },
   "cell_type": "code",
   "source": [
    "# drop race column as race has nothing to do with health\n",
    "df_data.drop('race', axis=1, inplace=True)\n",
    "df_data.iloc[:, :5].head()"
   ],
   "id": "ea55152ac478f6f8",
   "outputs": [
    {
     "data": {
      "text/plain": [
       "   patient_nbr  gender      age weight  admission_type_id\n",
       "0      8222157  Female   [0-10)      ?                  6\n",
       "1     55629189  Female  [10-20)      ?                  1\n",
       "2     86047875  Female  [20-30)      ?                  1\n",
       "3     82442376    Male  [30-40)      ?                  1\n",
       "4     42519267    Male  [40-50)      ?                  1"
      ],
      "text/html": [
       "<div>\n",
       "<style scoped>\n",
       "    .dataframe tbody tr th:only-of-type {\n",
       "        vertical-align: middle;\n",
       "    }\n",
       "\n",
       "    .dataframe tbody tr th {\n",
       "        vertical-align: top;\n",
       "    }\n",
       "\n",
       "    .dataframe thead th {\n",
       "        text-align: right;\n",
       "    }\n",
       "</style>\n",
       "<table border=\"1\" class=\"dataframe\">\n",
       "  <thead>\n",
       "    <tr style=\"text-align: right;\">\n",
       "      <th></th>\n",
       "      <th>patient_nbr</th>\n",
       "      <th>gender</th>\n",
       "      <th>age</th>\n",
       "      <th>weight</th>\n",
       "      <th>admission_type_id</th>\n",
       "    </tr>\n",
       "  </thead>\n",
       "  <tbody>\n",
       "    <tr>\n",
       "      <th>0</th>\n",
       "      <td>8222157</td>\n",
       "      <td>Female</td>\n",
       "      <td>[0-10)</td>\n",
       "      <td>?</td>\n",
       "      <td>6</td>\n",
       "    </tr>\n",
       "    <tr>\n",
       "      <th>1</th>\n",
       "      <td>55629189</td>\n",
       "      <td>Female</td>\n",
       "      <td>[10-20)</td>\n",
       "      <td>?</td>\n",
       "      <td>1</td>\n",
       "    </tr>\n",
       "    <tr>\n",
       "      <th>2</th>\n",
       "      <td>86047875</td>\n",
       "      <td>Female</td>\n",
       "      <td>[20-30)</td>\n",
       "      <td>?</td>\n",
       "      <td>1</td>\n",
       "    </tr>\n",
       "    <tr>\n",
       "      <th>3</th>\n",
       "      <td>82442376</td>\n",
       "      <td>Male</td>\n",
       "      <td>[30-40)</td>\n",
       "      <td>?</td>\n",
       "      <td>1</td>\n",
       "    </tr>\n",
       "    <tr>\n",
       "      <th>4</th>\n",
       "      <td>42519267</td>\n",
       "      <td>Male</td>\n",
       "      <td>[40-50)</td>\n",
       "      <td>?</td>\n",
       "      <td>1</td>\n",
       "    </tr>\n",
       "  </tbody>\n",
       "</table>\n",
       "</div>"
      ]
     },
     "execution_count": 144,
     "metadata": {},
     "output_type": "execute_result"
    }
   ],
   "execution_count": 144
  },
  {
   "metadata": {
    "ExecuteTime": {
     "end_time": "2025-10-17T12:02:05.655769Z",
     "start_time": "2025-10-17T12:02:05.627430Z"
    }
   },
   "cell_type": "code",
   "source": [
    "print(f'Duplicate patients: {df_data[\"patient_nbr\"].value_counts()[lambda x: x >= 2].count()}')\n",
    "print(f'Patients with at least 5 entries: {df_data['patient_nbr'].value_counts()[lambda x: x >= 5].count()}')\n",
    "print(f'Unique patients: {df_data['patient_nbr'].nunique()}')"
   ],
   "id": "208bcb3df846e305",
   "outputs": [
    {
     "name": "stdout",
     "output_type": "stream",
     "text": [
      "Duplicate patients: 16773\n",
      "Patients with at least 5 entries: 1590\n",
      "Unique patients: 71518\n"
     ]
    }
   ],
   "execution_count": 145
  },
  {
   "metadata": {
    "ExecuteTime": {
     "end_time": "2025-10-17T12:02:06.806130Z",
     "start_time": "2025-10-17T12:02:06.796691Z"
    }
   },
   "cell_type": "code",
   "source": "print(df_data['gender'].value_counts(normalize=True) * 100)",
   "id": "fae9b7190adc1aee",
   "outputs": [
    {
     "name": "stdout",
     "output_type": "stream",
     "text": [
      "gender\n",
      "Female             53.758623\n",
      "Male               46.238429\n",
      "Unknown/Invalid     0.002948\n",
      "Name: proportion, dtype: float64\n"
     ]
    }
   ],
   "execution_count": 146
  },
  {
   "metadata": {
    "ExecuteTime": {
     "end_time": "2025-10-17T12:02:08.025205Z",
     "start_time": "2025-10-17T12:02:07.982511Z"
    }
   },
   "cell_type": "code",
   "source": "df_data = df_data[df_data['gender'] != 'Unknown/Invalid'] # remove Unknown",
   "id": "9a7ec26e7c940a5b",
   "outputs": [],
   "execution_count": 147
  },
  {
   "metadata": {
    "ExecuteTime": {
     "end_time": "2025-10-17T12:02:08.960272Z",
     "start_time": "2025-10-17T12:02:08.949460Z"
    }
   },
   "cell_type": "code",
   "source": "df_data['weight'].describe()",
   "id": "2f7197756ef054b6",
   "outputs": [
    {
     "data": {
      "text/plain": [
       "count     101763\n",
       "unique        10\n",
       "top            ?\n",
       "freq       98566\n",
       "Name: weight, dtype: object"
      ]
     },
     "execution_count": 148,
     "metadata": {},
     "output_type": "execute_result"
    }
   ],
   "execution_count": 148
  },
  {
   "metadata": {
    "ExecuteTime": {
     "end_time": "2025-10-17T12:02:10.456666Z",
     "start_time": "2025-10-17T12:02:10.412131Z"
    }
   },
   "cell_type": "code",
   "source": [
    "df_data.drop('weight', axis=1, inplace=True) # drop weight as not enough values\n",
    "df_data.iloc[:, :5].head()  # first 5 columns"
   ],
   "id": "de3acd5a51a90217",
   "outputs": [
    {
     "data": {
      "text/plain": [
       "   patient_nbr  gender      age  admission_type_id  discharge_disposition_id\n",
       "0      8222157  Female   [0-10)                  6                        25\n",
       "1     55629189  Female  [10-20)                  1                         1\n",
       "2     86047875  Female  [20-30)                  1                         1\n",
       "3     82442376    Male  [30-40)                  1                         1\n",
       "4     42519267    Male  [40-50)                  1                         1"
      ],
      "text/html": [
       "<div>\n",
       "<style scoped>\n",
       "    .dataframe tbody tr th:only-of-type {\n",
       "        vertical-align: middle;\n",
       "    }\n",
       "\n",
       "    .dataframe tbody tr th {\n",
       "        vertical-align: top;\n",
       "    }\n",
       "\n",
       "    .dataframe thead th {\n",
       "        text-align: right;\n",
       "    }\n",
       "</style>\n",
       "<table border=\"1\" class=\"dataframe\">\n",
       "  <thead>\n",
       "    <tr style=\"text-align: right;\">\n",
       "      <th></th>\n",
       "      <th>patient_nbr</th>\n",
       "      <th>gender</th>\n",
       "      <th>age</th>\n",
       "      <th>admission_type_id</th>\n",
       "      <th>discharge_disposition_id</th>\n",
       "    </tr>\n",
       "  </thead>\n",
       "  <tbody>\n",
       "    <tr>\n",
       "      <th>0</th>\n",
       "      <td>8222157</td>\n",
       "      <td>Female</td>\n",
       "      <td>[0-10)</td>\n",
       "      <td>6</td>\n",
       "      <td>25</td>\n",
       "    </tr>\n",
       "    <tr>\n",
       "      <th>1</th>\n",
       "      <td>55629189</td>\n",
       "      <td>Female</td>\n",
       "      <td>[10-20)</td>\n",
       "      <td>1</td>\n",
       "      <td>1</td>\n",
       "    </tr>\n",
       "    <tr>\n",
       "      <th>2</th>\n",
       "      <td>86047875</td>\n",
       "      <td>Female</td>\n",
       "      <td>[20-30)</td>\n",
       "      <td>1</td>\n",
       "      <td>1</td>\n",
       "    </tr>\n",
       "    <tr>\n",
       "      <th>3</th>\n",
       "      <td>82442376</td>\n",
       "      <td>Male</td>\n",
       "      <td>[30-40)</td>\n",
       "      <td>1</td>\n",
       "      <td>1</td>\n",
       "    </tr>\n",
       "    <tr>\n",
       "      <th>4</th>\n",
       "      <td>42519267</td>\n",
       "      <td>Male</td>\n",
       "      <td>[40-50)</td>\n",
       "      <td>1</td>\n",
       "      <td>1</td>\n",
       "    </tr>\n",
       "  </tbody>\n",
       "</table>\n",
       "</div>"
      ]
     },
     "execution_count": 149,
     "metadata": {},
     "output_type": "execute_result"
    }
   ],
   "execution_count": 149
  },
  {
   "metadata": {
    "ExecuteTime": {
     "end_time": "2025-10-17T12:02:11.700237Z",
     "start_time": "2025-10-17T12:02:11.609504Z"
    }
   },
   "cell_type": "code",
   "source": [
    "# plot age categories\n",
    "age_counts = df_data['age'].value_counts().sort_index()\n",
    "\n",
    "plt.figure(figsize=(10, 5))\n",
    "age_counts.plot(kind='bar', color='skyblue', edgecolor='black')\n",
    "\n",
    "plt.title('Age Group Distribution')\n",
    "plt.xlabel('Age Group')\n",
    "plt.ylabel('Number of Records')\n",
    "plt.xticks(rotation=45)\n",
    "plt.grid(axis='y', linestyle='--', alpha=0.7)\n",
    "plt.show()\n"
   ],
   "id": "cb3cd5309f2110f6",
   "outputs": [
    {
     "data": {
      "text/plain": [
       "<Figure size 1000x500 with 1 Axes>"
      ],
      "image/png": "[encoded data removed]"
     },
     "metadata": {},
     "output_type": "display_data",
     "jetTransient": {
      "display_id": null
     }
    }
   ],
   "execution_count": 150
  },
  {
   "metadata": {
    "ExecuteTime": {
     "end_time": "2025-10-17T12:02:15.248740Z",
     "start_time": "2025-10-17T12:02:15.178523Z"
    }
   },
   "cell_type": "code",
   "source": [
    "df_data.drop('payer_code', axis=1, inplace=True) # drop columns as not relevant for readmission\n",
    "df_data.drop('medical_specialty', axis=1, inplace=True)"
   ],
   "id": "219bb34e23020951",
   "outputs": [],
   "execution_count": 151
  },
  {
   "metadata": {
    "ExecuteTime": {
     "end_time": "2025-10-17T12:02:15.919004Z",
     "start_time": "2025-10-17T12:02:15.890342Z"
    }
   },
   "cell_type": "code",
   "source": [
    "print(df_data[['diag_1', 'diag_2', 'diag_3']].isnull().sum())\n",
    "print(df_data[['diag_1', 'diag_2', 'diag_3']].eq('?').sum())"
   ],
   "id": "a655de37e223524",
   "outputs": [
    {
     "name": "stdout",
     "output_type": "stream",
     "text": [
      "diag_1    0\n",
      "diag_2    0\n",
      "diag_3    0\n",
      "dtype: int64\n",
      "diag_1      21\n",
      "diag_2     358\n",
      "diag_3    1423\n",
      "dtype: int64\n"
     ]
    }
   ],
   "execution_count": 152
  },
  {
   "metadata": {
    "ExecuteTime": {
     "end_time": "2025-10-17T12:02:16.875533Z",
     "start_time": "2025-10-17T12:02:16.822140Z"
    }
   },
   "cell_type": "code",
   "source": [
    "df_data = df_data[df_data['diag_1'] != '?'] # drop those 21 rows with unknown first diagnose\n",
    "print(df_data[['diag_2', 'diag_3']].eq('?').sum())"
   ],
   "id": "80ad394c7a47086",
   "outputs": [
    {
     "name": "stdout",
     "output_type": "stream",
     "text": [
      "diag_2     357\n",
      "diag_3    1422\n",
      "dtype: int64\n"
     ]
    }
   ],
   "execution_count": 153
  },
  {
   "metadata": {
    "ExecuteTime": {
     "end_time": "2025-10-17T12:02:19.024607Z",
     "start_time": "2025-10-17T12:02:18.999212Z"
    }
   },
   "cell_type": "code",
   "source": [
    "df_data[['diag_2', 'diag_3']] = df_data[['diag_2', 'diag_3']].replace('?', 'Unknown') # replace ? by unknown\n",
    "print(df_data[['diag_2', 'diag_3']].eq('?').sum())"
   ],
   "id": "f4a79c90c21d7c29",
   "outputs": [
    {
     "name": "stdout",
     "output_type": "stream",
     "text": [
      "diag_2    0\n",
      "diag_3    0\n",
      "dtype: int64\n"
     ]
    }
   ],
   "execution_count": 154
  },
  {
   "metadata": {
    "ExecuteTime": {
     "end_time": "2025-10-17T12:02:19.810955Z",
     "start_time": "2025-10-17T12:02:19.767546Z"
    }
   },
   "cell_type": "code",
   "source": [
    "print(f'Min value of diag1: {df_data['diag_1'].min()} \\nMax value of diag1: {df_data['diag_1'].max()}')\n",
    "print(f'Number of codes with letters: {df_data['diag_1'].astype(str).str.contains('[A-Za-z]', na=False).sum()}')\n",
    "df_data['diag_1'].value_counts().sort_index() # ICD9 codes, no need for cleaning but categorization in future steps"
   ],
   "id": "427ee6472c1e267d",
   "outputs": [
    {
     "name": "stdout",
     "output_type": "stream",
     "text": [
      "Min value of diag1: 10 \n",
      "Max value of diag1: V71\n",
      "Number of codes with letters: 1645\n"
     ]
    },
    {
     "data": {
      "text/plain": [
       "diag_1\n",
       "10      1\n",
       "11     10\n",
       "110     2\n",
       "112    73\n",
       "114     1\n",
       "       ..\n",
       "V63     8\n",
       "V66     2\n",
       "V67     1\n",
       "V70     1\n",
       "V71     9\n",
       "Name: count, Length: 716, dtype: int64"
      ]
     },
     "execution_count": 155,
     "metadata": {},
     "output_type": "execute_result"
    }
   ],
   "execution_count": 155
  },
  {
   "metadata": {
    "ExecuteTime": {
     "end_time": "2025-10-17T12:02:32.427554Z",
     "start_time": "2025-10-17T12:02:32.389240Z"
    }
   },
   "cell_type": "code",
   "source": [
    "print(df_data['tolbutamide'])\n",
    "df_data.drop('tolbutamide', axis=1, inplace=True) # only No as value, doesn't help with prediction"
   ],
   "id": "88e5ffa8586aee2f",
   "outputs": [
    {
     "name": "stdout",
     "output_type": "stream",
     "text": [
      "0         No\n",
      "1         No\n",
      "2         No\n",
      "3         No\n",
      "4         No\n",
      "          ..\n",
      "101761    No\n",
      "101762    No\n",
      "101763    No\n",
      "101764    No\n",
      "101765    No\n",
      "Name: tolbutamide, Length: 101742, dtype: object\n"
     ]
    }
   ],
   "execution_count": 156
  },
  {
   "metadata": {
    "ExecuteTime": {
     "end_time": "2025-10-17T12:02:39.299335Z",
     "start_time": "2025-10-17T12:02:39.251694Z"
    }
   },
   "cell_type": "code",
   "source": [
    "print(df_data[df_data['examide']!='No']) # Empty dataframe\n",
    "df_data.drop('examide', axis=1, inplace=True)"
   ],
   "id": "c00ccd8ab71c089c",
   "outputs": [
    {
     "name": "stdout",
     "output_type": "stream",
     "text": [
      "Empty DataFrame\n",
      "Columns: [patient_nbr, gender, age, admission_type_id, discharge_disposition_id, admission_source_id, time_in_hospital, num_lab_procedures, num_procedures, num_medications, number_outpatient, number_emergency, number_inpatient, diag_1, diag_2, diag_3, number_diagnoses, max_glu_serum, A1Cresult, metformin, repaglinide, nateglinide, chlorpropamide, glimepiride, acetohexamide, glipizide, glyburide, pioglitazone, rosiglitazone, acarbose, miglitol, troglitazone, tolazamide, examide, citoglipton, insulin, glyburide-metformin, glipizide-metformin, glimepiride-pioglitazone, metformin-rosiglitazone, metformin-pioglitazone, change, diabetesMed, readmitted]\n",
      "Index: []\n",
      "\n",
      "[0 rows x 44 columns]\n"
     ]
    }
   ],
   "execution_count": 157
  },
  {
   "metadata": {
    "ExecuteTime": {
     "end_time": "2025-10-17T12:02:40.320956Z",
     "start_time": "2025-10-17T12:02:40.274087Z"
    }
   },
   "cell_type": "code",
   "source": [
    "print(df_data[df_data['citoglipton']!='No']) # Empty dataframe\n",
    "df_data.drop('citoglipton', axis=1, inplace=True)"
   ],
   "id": "a891533a134fefca",
   "outputs": [
    {
     "name": "stdout",
     "output_type": "stream",
     "text": [
      "Empty DataFrame\n",
      "Columns: [patient_nbr, gender, age, admission_type_id, discharge_disposition_id, admission_source_id, time_in_hospital, num_lab_procedures, num_procedures, num_medications, number_outpatient, number_emergency, number_inpatient, diag_1, diag_2, diag_3, number_diagnoses, max_glu_serum, A1Cresult, metformin, repaglinide, nateglinide, chlorpropamide, glimepiride, acetohexamide, glipizide, glyburide, pioglitazone, rosiglitazone, acarbose, miglitol, troglitazone, tolazamide, citoglipton, insulin, glyburide-metformin, glipizide-metformin, glimepiride-pioglitazone, metformin-rosiglitazone, metformin-pioglitazone, change, diabetesMed, readmitted]\n",
      "Index: []\n",
      "\n",
      "[0 rows x 43 columns]\n"
     ]
    }
   ],
   "execution_count": 158
  },
  {
   "metadata": {
    "ExecuteTime": {
     "end_time": "2025-10-17T12:02:46.043316Z",
     "start_time": "2025-10-17T12:02:45.990102Z"
    }
   },
   "cell_type": "code",
   "source": [
    "print((df_data['glyburide-metformin']!='No').sum())\n",
    "print((df_data['glipizide-metformin']!='No').sum())\n",
    "print((df_data['glimepiride-pioglitazone']!='No').sum())\n",
    "print((df_data['metformin-rosiglitazone']!='No').sum())\n",
    "print((df_data['metformin-pioglitazone']!='No').sum())\n",
    "# impact of these columns to low, 706 of 100'000, less than 1%\n",
    "df_data.drop(\n",
    "    ['glyburide-metformin', 'glipizide-metformin',\n",
    "     'glimepiride-pioglitazone', 'metformin-rosiglitazone',\n",
    "     'metformin-pioglitazone'],\n",
    "    axis=1,\n",
    "    inplace=True\n",
    ")\n",
    "\n"
   ],
   "id": "76fe8e2586a43f4c",
   "outputs": [
    {
     "name": "stdout",
     "output_type": "stream",
     "text": [
      "706\n",
      "13\n",
      "1\n",
      "2\n",
      "1\n"
     ]
    }
   ],
   "execution_count": 159
  },
  {
   "metadata": {
    "ExecuteTime": {
     "end_time": "2025-10-17T12:02:48.773067Z",
     "start_time": "2025-10-17T12:02:48.762149Z"
    }
   },
   "cell_type": "code",
   "source": [
    "df_data['change'] = df_data['change'].map({'No': False, 'Ch': True}) # switch from Ch and No to true and false\n",
    "df_data['change'].value_counts()"
   ],
   "id": "576fe00abea89698",
   "outputs": [
    {
     "data": {
      "text/plain": [
       "change\n",
       "False    54741\n",
       "True     47001\n",
       "Name: count, dtype: int64"
      ]
     },
     "execution_count": 160,
     "metadata": {},
     "output_type": "execute_result"
    }
   ],
   "execution_count": 160
  },
  {
   "metadata": {
    "ExecuteTime": {
     "end_time": "2025-10-17T12:02:50.326431Z",
     "start_time": "2025-10-17T12:02:50.306200Z"
    }
   },
   "cell_type": "code",
   "source": [
    "df_data['readmitted'] = df_data['readmitted'].apply(lambda x: False if x == 'NO' else True) # for now only true and false, later maybe differ between less or more than 30 days\n",
    "df_data['readmitted'].value_counts()"
   ],
   "id": "14a3eecabe632e83",
   "outputs": [
    {
     "data": {
      "text/plain": [
       "readmitted\n",
       "False    54849\n",
       "True     46893\n",
       "Name: count, dtype: int64"
      ]
     },
     "execution_count": 161,
     "metadata": {},
     "output_type": "execute_result"
    }
   ],
   "execution_count": 161
  },
  {
   "metadata": {
    "ExecuteTime": {
     "end_time": "2025-10-17T12:02:54.236501Z",
     "start_time": "2025-10-17T12:02:54.224895Z"
    }
   },
   "cell_type": "code",
   "source": "df_data.head()",
   "id": "5c8ef8fac204713",
   "outputs": [
    {
     "data": {
      "text/plain": [
       "   patient_nbr  gender      age  admission_type_id  discharge_disposition_id  \\\n",
       "0      8222157  Female   [0-10)                  6                        25   \n",
       "1     55629189  Female  [10-20)                  1                         1   \n",
       "2     86047875  Female  [20-30)                  1                         1   \n",
       "3     82442376    Male  [30-40)                  1                         1   \n",
       "4     42519267    Male  [40-50)                  1                         1   \n",
       "\n",
       "   admission_source_id  time_in_hospital  num_lab_procedures  num_procedures  \\\n",
       "0                    1                 1                  41               0   \n",
       "1                    7                 3                  59               0   \n",
       "2                    7                 2                  11               5   \n",
       "3                    7                 2                  44               1   \n",
       "4                    7                 1                  51               0   \n",
       "\n",
       "   num_medications  ...  pioglitazone  rosiglitazone  acarbose miglitol  \\\n",
       "0                1  ...            No             No        No       No   \n",
       "1               18  ...            No             No        No       No   \n",
       "2               13  ...            No             No        No       No   \n",
       "3               16  ...            No             No        No       No   \n",
       "4                8  ...            No             No        No       No   \n",
       "\n",
       "  troglitazone tolazamide  insulin change diabetesMed readmitted  \n",
       "0           No         No       No  False          No      False  \n",
       "1           No         No       Up   True         Yes       True  \n",
       "2           No         No       No  False         Yes      False  \n",
       "3           No         No       Up   True         Yes      False  \n",
       "4           No         No   Steady   True         Yes      False  \n",
       "\n",
       "[5 rows x 37 columns]"
      ],
      "text/html": [
       "<div>\n",
       "<style scoped>\n",
       "    .dataframe tbody tr th:only-of-type {\n",
       "        vertical-align: middle;\n",
       "    }\n",
       "\n",
       "    .dataframe tbody tr th {\n",
       "        vertical-align: top;\n",
       "    }\n",
       "\n",
       "    .dataframe thead th {\n",
       "        text-align: right;\n",
       "    }\n",
       "</style>\n",
       "<table border=\"1\" class=\"dataframe\">\n",
       "  <thead>\n",
       "    <tr style=\"text-align: right;\">\n",
       "      <th></th>\n",
       "      <th>patient_nbr</th>\n",
       "      <th>gender</th>\n",
       "      <th>age</th>\n",
       "      <th>admission_type_id</th>\n",
       "      <th>discharge_disposition_id</th>\n",
       "      <th>admission_source_id</th>\n",
       "      <th>time_in_hospital</th>\n",
       "      <th>num_lab_procedures</th>\n",
       "      <th>num_procedures</th>\n",
       "      <th>num_medications</th>\n",
       "      <th>...</th>\n",
       "      <th>pioglitazone</th>\n",
       "      <th>rosiglitazone</th>\n",
       "      <th>acarbose</th>\n",
       "      <th>miglitol</th>\n",
       "      <th>troglitazone</th>\n",
       "      <th>tolazamide</th>\n",
       "      <th>insulin</th>\n",
       "      <th>change</th>\n",
       "      <th>diabetesMed</th>\n",
       "      <th>readmitted</th>\n",
       "    </tr>\n",
       "  </thead>\n",
       "  <tbody>\n",
       "    <tr>\n",
       "      <th>0</th>\n",
       "      <td>8222157</td>\n",
       "      <td>Female</td>\n",
       "      <td>[0-10)</td>\n",
       "      <td>6</td>\n",
       "      <td>25</td>\n",
       "      <td>1</td>\n",
       "      <td>1</td>\n",
       "      <td>41</td>\n",
       "      <td>0</td>\n",
       "      <td>1</td>\n",
       "      <td>...</td>\n",
       "      <td>No</td>\n",
       "      <td>No</td>\n",
       "      <td>No</td>\n",
       "      <td>No</td>\n",
       "      <td>No</td>\n",
       "      <td>No</td>\n",
       "      <td>No</td>\n",
       "      <td>False</td>\n",
       "      <td>No</td>\n",
       "      <td>False</td>\n",
       "    </tr>\n",
       "    <tr>\n",
       "      <th>1</th>\n",
       "      <td>55629189</td>\n",
       "      <td>Female</td>\n",
       "      <td>[10-20)</td>\n",
       "      <td>1</td>\n",
       "      <td>1</td>\n",
       "      <td>7</td>\n",
       "      <td>3</td>\n",
       "      <td>59</td>\n",
       "      <td>0</td>\n",
       "      <td>18</td>\n",
       "      <td>...</td>\n",
       "      <td>No</td>\n",
       "      <td>No</td>\n",
       "      <td>No</td>\n",
       "      <td>No</td>\n",
       "      <td>No</td>\n",
       "      <td>No</td>\n",
       "      <td>Up</td>\n",
       "      <td>True</td>\n",
       "      <td>Yes</td>\n",
       "      <td>True</td>\n",
       "    </tr>\n",
       "    <tr>\n",
       "      <th>2</th>\n",
       "      <td>86047875</td>\n",
       "      <td>Female</td>\n",
       "      <td>[20-30)</td>\n",
       "      <td>1</td>\n",
       "      <td>1</td>\n",
       "      <td>7</td>\n",
       "      <td>2</td>\n",
       "      <td>11</td>\n",
       "      <td>5</td>\n",
       "      <td>13</td>\n",
       "      <td>...</td>\n",
       "      <td>No</td>\n",
       "      <td>No</td>\n",
       "      <td>No</td>\n",
       "      <td>No</td>\n",
       "      <td>No</td>\n",
       "      <td>No</td>\n",
       "      <td>No</td>\n",
       "      <td>False</td>\n",
       "      <td>Yes</td>\n",
       "      <td>False</td>\n",
       "    </tr>\n",
       "    <tr>\n",
       "      <th>3</th>\n",
       "      <td>82442376</td>\n",
       "      <td>Male</td>\n",
       "      <td>[30-40)</td>\n",
       "      <td>1</td>\n",
       "      <td>1</td>\n",
       "      <td>7</td>\n",
       "      <td>2</td>\n",
       "      <td>44</td>\n",
       "      <td>1</td>\n",
       "      <td>16</td>\n",
       "      <td>...</td>\n",
       "      <td>No</td>\n",
       "      <td>No</td>\n",
       "      <td>No</td>\n",
       "      <td>No</td>\n",
       "      <td>No</td>\n",
       "      <td>No</td>\n",
       "      <td>Up</td>\n",
       "      <td>True</td>\n",
       "      <td>Yes</td>\n",
       "      <td>False</td>\n",
       "    </tr>\n",
       "    <tr>\n",
       "      <th>4</th>\n",
       "      <td>42519267</td>\n",
       "      <td>Male</td>\n",
       "      <td>[40-50)</td>\n",
       "      <td>1</td>\n",
       "      <td>1</td>\n",
       "      <td>7</td>\n",
       "      <td>1</td>\n",
       "      <td>51</td>\n",
       "      <td>0</td>\n",
       "      <td>8</td>\n",
       "      <td>...</td>\n",
       "      <td>No</td>\n",
       "      <td>No</td>\n",
       "      <td>No</td>\n",
       "      <td>No</td>\n",
       "      <td>No</td>\n",
       "      <td>No</td>\n",
       "      <td>Steady</td>\n",
       "      <td>True</td>\n",
       "      <td>Yes</td>\n",
       "      <td>False</td>\n",
       "    </tr>\n",
       "  </tbody>\n",
       "</table>\n",
       "<p>5 rows × 37 columns</p>\n",
       "</div>"
      ]
     },
     "execution_count": 162,
     "metadata": {},
     "output_type": "execute_result"
    }
   ],
   "execution_count": 162
  },
  {
   "metadata": {
    "ExecuteTime": {
     "end_time": "2025-10-17T12:02:57.142374Z",
     "start_time": "2025-10-17T12:02:57.129958Z"
    }
   },
   "cell_type": "code",
   "source": [
    "print(df_data['max_glu_serum'].value_counts())\n",
    "print(df_data['max_glu_serum'].isna())\n",
    "df_data['max_glu_serum'].fillna(0, inplace=True)\n",
    "\n"
   ],
   "id": "e7a304d3240e5cb7",
   "outputs": [
    {
     "name": "stdout",
     "output_type": "stream",
     "text": [
      "max_glu_serum\n",
      "Norm    2596\n",
      ">200    1485\n",
      ">300    1264\n",
      "Name: count, dtype: int64\n",
      "0         True\n",
      "1         True\n",
      "2         True\n",
      "3         True\n",
      "4         True\n",
      "          ... \n",
      "101761    True\n",
      "101762    True\n",
      "101763    True\n",
      "101764    True\n",
      "101765    True\n",
      "Name: max_glu_serum, Length: 101742, dtype: bool\n"
     ]
    },
    {
     "name": "stderr",
     "output_type": "stream",
     "text": [
      "C:\\Users\\taula\\AppData\\Local\\Temp\\ipykernel_31340\\1023640784.py:3: FutureWarning: A value is trying to be set on a copy of a DataFrame or Series through chained assignment using an inplace method.\n",
      "The behavior will change in pandas 3.0. This inplace method will never work because the intermediate object on which we are setting values always behaves as a copy.\n",
      "\n",
      "For example, when doing 'df[col].method(value, inplace=True)', try using 'df.method({col: value}, inplace=True)' or df[col] = df[col].method(value) instead, to perform the operation inplace on the original object.\n",
      "\n",
      "\n",
      "  df_data['max_glu_serum'].fillna(0, inplace=True)\n"
     ]
    }
   ],
   "execution_count": 163
  },
  {
   "metadata": {
    "ExecuteTime": {
     "end_time": "2025-10-17T12:02:58.336468Z",
     "start_time": "2025-10-17T12:02:58.323652Z"
    }
   },
   "cell_type": "code",
   "source": [
    "print(df_data['A1Cresult'].value_counts())\n",
    "print(df_data['A1Cresult'].isna())\n",
    "df_data['A1Cresult'].fillna(0, inplace=True)"
   ],
   "id": "783ceb03a70a92c1",
   "outputs": [
    {
     "name": "stdout",
     "output_type": "stream",
     "text": [
      "A1Cresult\n",
      ">8      8214\n",
      "Norm    4989\n",
      ">7      3812\n",
      "Name: count, dtype: int64\n",
      "0          True\n",
      "1          True\n",
      "2          True\n",
      "3          True\n",
      "4          True\n",
      "          ...  \n",
      "101761    False\n",
      "101762     True\n",
      "101763     True\n",
      "101764     True\n",
      "101765     True\n",
      "Name: A1Cresult, Length: 101742, dtype: bool\n"
     ]
    },
    {
     "name": "stderr",
     "output_type": "stream",
     "text": [
      "C:\\Users\\taula\\AppData\\Local\\Temp\\ipykernel_31340\\1815748170.py:3: FutureWarning: A value is trying to be set on a copy of a DataFrame or Series through chained assignment using an inplace method.\n",
      "The behavior will change in pandas 3.0. This inplace method will never work because the intermediate object on which we are setting values always behaves as a copy.\n",
      "\n",
      "For example, when doing 'df[col].method(value, inplace=True)', try using 'df.method({col: value}, inplace=True)' or df[col] = df[col].method(value) instead, to perform the operation inplace on the original object.\n",
      "\n",
      "\n",
      "  df_data['A1Cresult'].fillna(0, inplace=True)\n"
     ]
    }
   ],
   "execution_count": 164
  },
  {
   "metadata": {
    "ExecuteTime": {
     "end_time": "2025-10-17T12:03:06.428459Z",
     "start_time": "2025-10-17T12:03:06.420841Z"
    }
   },
   "cell_type": "code",
   "source": [
    "# replace the id's with the description\n",
    "# first divide the mappings in different df\n",
    "start_admission = df_mapping.index[df_mapping.iloc[:, 0] == 'admission_type_id'][0]\n",
    "start_discharge = df_mapping.index[df_mapping.iloc[:, 0] == 'discharge_disposition_id'][0]\n",
    "start_source = df_mapping.index[df_mapping.iloc[:, 0] == 'admission_source_id'][0]\n",
    "\n",
    "df_admission_type = df_mapping.iloc[start_admission + 1 : start_discharge]\n",
    "df_discharge_disposition = df_mapping.iloc[start_discharge + 1 : start_source]\n",
    "df_admission_source = df_mapping.iloc[start_source + 1 :]\n",
    "\n",
    "df_admission_type.columns = ['admission_type_id', 'description']\n",
    "df_discharge_disposition.columns = ['discharge_disposition_id', 'description']\n",
    "df_admission_source.columns = ['admission_source_id', 'description']\n",
    "\n",
    "print(df_admission_type.head())\n",
    "print(df_discharge_disposition.head())\n",
    "print(df_admission_source.head())"
   ],
   "id": "4d2bc9d0fc551098",
   "outputs": [
    {
     "name": "stdout",
     "output_type": "stream",
     "text": [
      "  admission_type_id    description\n",
      "1                 1      Emergency\n",
      "2                 2         Urgent\n",
      "3                 3       Elective\n",
      "4                 4        Newborn\n",
      "5                 5  Not Available\n",
      "   discharge_disposition_id                                        description\n",
      "11                        1                                 Discharged to home\n",
      "12                        2  Discharged/transferred to another short term h...\n",
      "13                        3                      Discharged/transferred to SNF\n",
      "14                        4                      Discharged/transferred to ICF\n",
      "15                        5  Discharged/transferred to another type of inpa...\n",
      "   admission_source_id                                      description\n",
      "43                   1                               Physician Referral\n",
      "44                   2                                  Clinic Referral\n",
      "45                   3                                     HMO Referral\n",
      "46                   4                         Transfer from a hospital\n",
      "47                   5   Transfer from a Skilled Nursing Facility (SNF)\n"
     ]
    }
   ],
   "execution_count": 165
  },
  {
   "metadata": {
    "ExecuteTime": {
     "end_time": "2025-10-17T12:03:07.999240Z",
     "start_time": "2025-10-17T12:03:07.992188Z"
    }
   },
   "cell_type": "code",
   "source": [
    "print(df_admission_type)\n",
    "df_admission_type.drop(index=6, inplace=True)\n",
    "df_admission_type.drop(index=9, inplace=True)"
   ],
   "id": "23da37dc3bb2f276",
   "outputs": [
    {
     "name": "stdout",
     "output_type": "stream",
     "text": [
      "  admission_type_id    description\n",
      "1                 1      Emergency\n",
      "2                 2         Urgent\n",
      "3                 3       Elective\n",
      "4                 4        Newborn\n",
      "5                 5  Not Available\n",
      "6                 6            NaN\n",
      "7                 7  Trauma Center\n",
      "8                 8     Not Mapped\n",
      "9               NaN            NaN\n"
     ]
    },
    {
     "name": "stderr",
     "output_type": "stream",
     "text": [
      "C:\\Users\\taula\\AppData\\Local\\Temp\\ipykernel_31340\\4023448619.py:2: SettingWithCopyWarning: \n",
      "A value is trying to be set on a copy of a slice from a DataFrame\n",
      "\n",
      "See the caveats in the documentation: https://pandas.pydata.org/pandas-docs/stable/user_guide/indexing.html#returning-a-view-versus-a-copy\n",
      "  df_admission_type.drop(index=6, inplace=True)\n",
      "C:\\Users\\taula\\AppData\\Local\\Temp\\ipykernel_31340\\4023448619.py:3: SettingWithCopyWarning: \n",
      "A value is trying to be set on a copy of a slice from a DataFrame\n",
      "\n",
      "See the caveats in the documentation: https://pandas.pydata.org/pandas-docs/stable/user_guide/indexing.html#returning-a-view-versus-a-copy\n",
      "  df_admission_type.drop(index=9, inplace=True)\n"
     ]
    }
   ],
   "execution_count": 166
  },
  {
   "metadata": {
    "ExecuteTime": {
     "end_time": "2025-10-17T12:03:09.452058Z",
     "start_time": "2025-10-17T12:03:09.445380Z"
    }
   },
   "cell_type": "code",
   "source": [
    "print(df_discharge_disposition)\n",
    "df_discharge_disposition.drop(index=28, inplace=True)\n",
    "df_discharge_disposition.drop(index=41, inplace=True)"
   ],
   "id": "7d55712e4d7d7ac1",
   "outputs": [
    {
     "name": "stdout",
     "output_type": "stream",
     "text": [
      "   discharge_disposition_id                                        description\n",
      "11                        1                                 Discharged to home\n",
      "12                        2  Discharged/transferred to another short term h...\n",
      "13                        3                      Discharged/transferred to SNF\n",
      "14                        4                      Discharged/transferred to ICF\n",
      "15                        5  Discharged/transferred to another type of inpa...\n",
      "16                        6  Discharged/transferred to home with home healt...\n",
      "17                        7                                           Left AMA\n",
      "18                        8  Discharged/transferred to home under care of H...\n",
      "19                        9          Admitted as an inpatient to this hospital\n",
      "20                       10  Neonate discharged to another hospital for neo...\n",
      "21                       11                                            Expired\n",
      "22                       12  Still patient or expected to return for outpat...\n",
      "23                       13                                     Hospice / home\n",
      "24                       14                         Hospice / medical facility\n",
      "25                       15  Discharged/transferred within this institution...\n",
      "26                       16  Discharged/transferred/referred another instit...\n",
      "27                       17  Discharged/transferred/referred to this instit...\n",
      "28                       18                                                NaN\n",
      "29                       19           Expired at home. Medicaid only, hospice.\n",
      "30                       20  Expired in a medical facility. Medicaid only, ...\n",
      "31                       21    Expired, place unknown. Medicaid only, hospice.\n",
      "32                       22  Discharged/transferred to another rehab fac in...\n",
      "33                       23  Discharged/transferred to a long term care hos...\n",
      "34                       24  Discharged/transferred to a nursing facility c...\n",
      "35                       25                                         Not Mapped\n",
      "36                       26                                    Unknown/Invalid\n",
      "37                       30  Discharged/transferred to another Type of Heal...\n",
      "38                       27  Discharged/transferred to a federal health car...\n",
      "39                       28  Discharged/transferred/referred to a psychiatr...\n",
      "40                       29  Discharged/transferred to a Critical Access Ho...\n",
      "41                      NaN                                                NaN\n"
     ]
    },
    {
     "name": "stderr",
     "output_type": "stream",
     "text": [
      "C:\\Users\\taula\\AppData\\Local\\Temp\\ipykernel_31340\\2058503799.py:2: SettingWithCopyWarning: \n",
      "A value is trying to be set on a copy of a slice from a DataFrame\n",
      "\n",
      "See the caveats in the documentation: https://pandas.pydata.org/pandas-docs/stable/user_guide/indexing.html#returning-a-view-versus-a-copy\n",
      "  df_discharge_disposition.drop(index=28, inplace=True)\n",
      "C:\\Users\\taula\\AppData\\Local\\Temp\\ipykernel_31340\\2058503799.py:3: SettingWithCopyWarning: \n",
      "A value is trying to be set on a copy of a slice from a DataFrame\n",
      "\n",
      "See the caveats in the documentation: https://pandas.pydata.org/pandas-docs/stable/user_guide/indexing.html#returning-a-view-versus-a-copy\n",
      "  df_discharge_disposition.drop(index=41, inplace=True)\n"
     ]
    }
   ],
   "execution_count": 167
  },
  {
   "metadata": {
    "ExecuteTime": {
     "end_time": "2025-10-17T12:03:10.981789Z",
     "start_time": "2025-10-17T12:03:10.975664Z"
    }
   },
   "cell_type": "code",
   "source": [
    "print(df_admission_source)\n",
    "df_admission_source.drop(index=58, inplace=True)\n"
   ],
   "id": "67f3ba73f715786a",
   "outputs": [
    {
     "name": "stdout",
     "output_type": "stream",
     "text": [
      "   admission_source_id                                        description\n",
      "43                   1                                 Physician Referral\n",
      "44                   2                                    Clinic Referral\n",
      "45                   3                                       HMO Referral\n",
      "46                   4                           Transfer from a hospital\n",
      "47                   5     Transfer from a Skilled Nursing Facility (SNF)\n",
      "48                   6         Transfer from another health care facility\n",
      "49                   7                                     Emergency Room\n",
      "50                   8                              Court/Law Enforcement\n",
      "51                   9                                      Not Available\n",
      "52                  10              Transfer from critial access hospital\n",
      "53                  11                                    Normal Delivery\n",
      "54                  12                                 Premature Delivery\n",
      "55                  13                                          Sick Baby\n",
      "56                  14                                   Extramural Birth\n",
      "57                  15                                      Not Available\n",
      "58                  17                                                NaN\n",
      "59                  18           Transfer From Another Home Health Agency\n",
      "60                  19             Readmission to Same Home Health Agency\n",
      "61                  20                                         Not Mapped\n",
      "62                  21                                    Unknown/Invalid\n",
      "63                  22   Transfer from hospital inpt/same fac reslt in...\n",
      "64                  23                          Born inside this hospital\n",
      "65                  24                         Born outside this hospital\n",
      "66                  25            Transfer from Ambulatory Surgery Center\n",
      "67                  26                              Transfer from Hospice\n"
     ]
    },
    {
     "name": "stderr",
     "output_type": "stream",
     "text": [
      "C:\\Users\\taula\\AppData\\Local\\Temp\\ipykernel_31340\\1763971919.py:2: SettingWithCopyWarning: \n",
      "A value is trying to be set on a copy of a slice from a DataFrame\n",
      "\n",
      "See the caveats in the documentation: https://pandas.pydata.org/pandas-docs/stable/user_guide/indexing.html#returning-a-view-versus-a-copy\n",
      "  df_admission_source.drop(index=58, inplace=True)\n"
     ]
    }
   ],
   "execution_count": 168
  },
  {
   "metadata": {
    "ExecuteTime": {
     "end_time": "2025-10-17T12:03:15.877190Z",
     "start_time": "2025-10-17T12:03:15.872016Z"
    }
   },
   "cell_type": "code",
   "source": [
    "# replace the id's in the original dataframe with the description\n",
    "# first make numeric values out of the id's\n",
    "df_admission_type['admission_type_id'] = pd.to_numeric(df_admission_type['admission_type_id'])\n",
    "df_discharge_disposition['discharge_disposition_id'] = pd.to_numeric(df_discharge_disposition['discharge_disposition_id'])\n",
    "df_admission_source['admission_source_id'] = pd.to_numeric(df_admission_source['admission_source_id'])\n",
    "# second put them in a dictionary for easier work later\n",
    "map_admission = dict(zip(df_admission_type['admission_type_id'], df_admission_type['description']))\n",
    "map_discharge = dict(zip(df_discharge_disposition['discharge_disposition_id'], df_discharge_disposition['description']))\n",
    "map_source = dict(zip(df_admission_source['admission_source_id'], df_admission_source['description']))\n"
   ],
   "id": "8b2045b08a6481c7",
   "outputs": [
    {
     "name": "stderr",
     "output_type": "stream",
     "text": [
      "C:\\Users\\taula\\AppData\\Local\\Temp\\ipykernel_31340\\3568309313.py:3: SettingWithCopyWarning: \n",
      "A value is trying to be set on a copy of a slice from a DataFrame.\n",
      "Try using .loc[row_indexer,col_indexer] = value instead\n",
      "\n",
      "See the caveats in the documentation: https://pandas.pydata.org/pandas-docs/stable/user_guide/indexing.html#returning-a-view-versus-a-copy\n",
      "  df_admission_type['admission_type_id'] = pd.to_numeric(df_admission_type['admission_type_id'])\n",
      "C:\\Users\\taula\\AppData\\Local\\Temp\\ipykernel_31340\\3568309313.py:4: SettingWithCopyWarning: \n",
      "A value is trying to be set on a copy of a slice from a DataFrame.\n",
      "Try using .loc[row_indexer,col_indexer] = value instead\n",
      "\n",
      "See the caveats in the documentation: https://pandas.pydata.org/pandas-docs/stable/user_guide/indexing.html#returning-a-view-versus-a-copy\n",
      "  df_discharge_disposition['discharge_disposition_id'] = pd.to_numeric(df_discharge_disposition['discharge_disposition_id'])\n",
      "C:\\Users\\taula\\AppData\\Local\\Temp\\ipykernel_31340\\3568309313.py:5: SettingWithCopyWarning: \n",
      "A value is trying to be set on a copy of a slice from a DataFrame.\n",
      "Try using .loc[row_indexer,col_indexer] = value instead\n",
      "\n",
      "See the caveats in the documentation: https://pandas.pydata.org/pandas-docs/stable/user_guide/indexing.html#returning-a-view-versus-a-copy\n",
      "  df_admission_source['admission_source_id'] = pd.to_numeric(df_admission_source['admission_source_id'])\n"
     ]
    }
   ],
   "execution_count": 169
  },
  {
   "metadata": {
    "ExecuteTime": {
     "end_time": "2025-10-17T12:03:21.186898Z",
     "start_time": "2025-10-17T12:03:21.174940Z"
    }
   },
   "cell_type": "code",
   "source": [
    "# replace the id's with description\n",
    "df_data['admission_type_id'] = df_data['admission_type_id'].map(map_admission)\n",
    "df_data['discharge_disposition_id'] = df_data['discharge_disposition_id'].map(map_discharge)\n",
    "df_data['admission_source_id'] = df_data['admission_source_id'].map(map_source)\n"
   ],
   "id": "720e8430340a28f1",
   "outputs": [],
   "execution_count": 170
  },
  {
   "metadata": {
    "ExecuteTime": {
     "end_time": "2025-10-17T12:04:25.137211Z",
     "start_time": "2025-10-17T12:04:25.114908Z"
    }
   },
   "cell_type": "code",
   "source": "print(df_data[df_data['admission_type_id'].isna()])",
   "id": "48d8872451722728",
   "outputs": [
    {
     "name": "stdout",
     "output_type": "stream",
     "text": [
      "        patient_nbr  gender      age admission_type_id  \\\n",
      "0           8222157  Female   [0-10)               NaN   \n",
      "117          720936  Female  [70-80)               NaN   \n",
      "118          661014    Male  [60-70)               NaN   \n",
      "121         1719279    Male  [40-50)               NaN   \n",
      "122         7919802  Female  [40-50)               NaN   \n",
      "...             ...     ...      ...               ...   \n",
      "101521     87851016  Female  [70-80)               NaN   \n",
      "101542     21036033    Male  [70-80)               NaN   \n",
      "101615    105626313    Male  [60-70)               NaN   \n",
      "101692     55146366  Female  [50-60)               NaN   \n",
      "101724    105807996    Male  [60-70)               NaN   \n",
      "\n",
      "                                 discharge_disposition_id  \\\n",
      "0                                              Not Mapped   \n",
      "117                                            Not Mapped   \n",
      "118                                            Not Mapped   \n",
      "121                                            Not Mapped   \n",
      "122                                            Not Mapped   \n",
      "...                                                   ...   \n",
      "101521                                 Discharged to home   \n",
      "101542                                 Discharged to home   \n",
      "101615                                 Discharged to home   \n",
      "101692  Discharged/transferred to home with home healt...   \n",
      "101724  Discharged/transferred to home with home healt...   \n",
      "\n",
      "        admission_source_id  time_in_hospital  num_lab_procedures  \\\n",
      "0        Physician Referral                 1                  41   \n",
      "117      Physician Referral                10                  56   \n",
      "118          Emergency Room                 9                  61   \n",
      "121          Emergency Room                11                  68   \n",
      "122          Emergency Room                 6                  47   \n",
      "...                     ...               ...                 ...   \n",
      "101521                  NaN                 2                  50   \n",
      "101542                  NaN                 4                  57   \n",
      "101615                  NaN                 5                  48   \n",
      "101692                  NaN                 4                  38   \n",
      "101724                  NaN                 7                  91   \n",
      "\n",
      "        num_procedures  num_medications  ...  pioglitazone  rosiglitazone  \\\n",
      "0                    0                1  ...            No             No   \n",
      "117                  2               24  ...            No             No   \n",
      "118                  4               25  ...            No             No   \n",
      "121                  0               25  ...            No         Steady   \n",
      "122                  2               13  ...            No             No   \n",
      "...                ...              ...  ...           ...            ...   \n",
      "101521               2               12  ...            No             No   \n",
      "101542               3               25  ...            No             No   \n",
      "101615               2               25  ...        Steady             No   \n",
      "101692               2               22  ...            No             No   \n",
      "101724               4               23  ...            No             No   \n",
      "\n",
      "        acarbose miglitol troglitazone tolazamide  insulin change diabetesMed  \\\n",
      "0             No       No           No         No       No  False          No   \n",
      "117           No       No           No         No     Down   True         Yes   \n",
      "118           No       No           No         No     Down   True         Yes   \n",
      "121           No       No       Steady         No       No   True         Yes   \n",
      "122           No       No           No         No       No  False          No   \n",
      "...          ...      ...          ...        ...      ...    ...         ...   \n",
      "101521        No       No           No         No       No  False          No   \n",
      "101542        No       No           No         No       No  False          No   \n",
      "101615        No       No           No         No     Down   True         Yes   \n",
      "101692        No       No           No         No     Down   True         Yes   \n",
      "101724        No       No           No         No       No  False         Yes   \n",
      "\n",
      "       readmitted  \n",
      "0           False  \n",
      "117          True  \n",
      "118         False  \n",
      "121          True  \n",
      "122         False  \n",
      "...           ...  \n",
      "101521      False  \n",
      "101542      False  \n",
      "101615      False  \n",
      "101692      False  \n",
      "101724      False  \n",
      "\n",
      "[5290 rows x 37 columns]\n"
     ]
    }
   ],
   "execution_count": 175
  },
  {
   "metadata": {
    "ExecuteTime": {
     "end_time": "2025-10-17T12:06:24.264806Z",
     "start_time": "2025-10-17T12:06:24.253426Z"
    }
   },
   "cell_type": "code",
   "source": [
    "# Replace NaN with 'Not Available'\n",
    "df_data['admission_type_id'] = df_data['admission_type_id'].fillna('Not Available')\n",
    "\n",
    "# Rename the column\n",
    "df_data.rename(columns={'admission_type_id': 'admission_type'}, inplace=True)"
   ],
   "id": "96b835e6cc23e06e",
   "outputs": [],
   "execution_count": 176
  },
  {
   "metadata": {
    "ExecuteTime": {
     "end_time": "2025-10-17T12:06:55.911591Z",
     "start_time": "2025-10-17T12:06:55.896239Z"
    }
   },
   "cell_type": "code",
   "source": "print(df_data[df_data['discharge_disposition_id'].isna()])\n",
   "id": "e6ad8d5ea885d749",
   "outputs": [
    {
     "name": "stdout",
     "output_type": "stream",
     "text": [
      "        patient_nbr  gender      age admission_type discharge_disposition_id  \\\n",
      "3545       24327378    Male  [40-50)  Not Available                      NaN   \n",
      "5120       48096243  Female  [60-70)  Not Available                      NaN   \n",
      "7723       14780889    Male  [50-60)      Emergency                      NaN   \n",
      "7890       16238538  Female  [40-50)       Elective                      NaN   \n",
      "8029        4246245  Female  [50-60)         Urgent                      NaN   \n",
      "...             ...     ...      ...            ...                      ...   \n",
      "97252      85247046    Male  [80-90)      Emergency                      NaN   \n",
      "97427      42558516    Male  [60-70)      Emergency                      NaN   \n",
      "97989      42369660    Male  [70-80)      Emergency                      NaN   \n",
      "98987      79426638    Male  [80-90)      Emergency                      NaN   \n",
      "100280    179864582    Male  [80-90)       Elective                      NaN   \n",
      "\n",
      "                                    admission_source_id  time_in_hospital  \\\n",
      "3545                           Transfer from a hospital                 2   \n",
      "5120     Transfer from a Skilled Nursing Facility (SNF)                 3   \n",
      "7723                                     Emergency Room                 7   \n",
      "7890                           Transfer from a hospital                12   \n",
      "8029                                 Physician Referral                 8   \n",
      "...                                                 ...               ...   \n",
      "97252                                    Emergency Room                 3   \n",
      "97427    Transfer from a Skilled Nursing Facility (SNF)                11   \n",
      "97989        Transfer from another health care facility                 3   \n",
      "98987                                    Emergency Room                 3   \n",
      "100280                               Physician Referral                 3   \n",
      "\n",
      "        num_lab_procedures  num_procedures  num_medications  ...  \\\n",
      "3545                    56               1                8  ...   \n",
      "5120                    42               0                1  ...   \n",
      "7723                    85               3               22  ...   \n",
      "7890                    43               1               24  ...   \n",
      "8029                    45               0               16  ...   \n",
      "...                    ...             ...              ...  ...   \n",
      "97252                   65               2               18  ...   \n",
      "97427                   74               0               27  ...   \n",
      "97989                   51               0               15  ...   \n",
      "98987                   81               0               12  ...   \n",
      "100280                  58               3               20  ...   \n",
      "\n",
      "        pioglitazone  rosiglitazone  acarbose miglitol troglitazone  \\\n",
      "3545              No             No        No       No           No   \n",
      "5120              No             No        No       No           No   \n",
      "7723              No             No        No       No           No   \n",
      "7890              No             No        No       No           No   \n",
      "8029              No             No        No       No           No   \n",
      "...              ...            ...       ...      ...          ...   \n",
      "97252             No             No        No       No           No   \n",
      "97427             No             No        No       No           No   \n",
      "97989             No             No        No       No           No   \n",
      "98987             No             No        No       No           No   \n",
      "100280            No             No        No       No           No   \n",
      "\n",
      "       tolazamide  insulin change diabetesMed readmitted  \n",
      "3545           No       No  False          No       True  \n",
      "5120           No       No  False          No      False  \n",
      "7723           No       No  False          No       True  \n",
      "7890           No       No   True         Yes       True  \n",
      "8029           No   Steady   True         Yes      False  \n",
      "...           ...      ...    ...         ...        ...  \n",
      "97252          No       No  False          No      False  \n",
      "97427          No   Steady  False         Yes      False  \n",
      "97989          No       No  False          No      False  \n",
      "98987          No   Steady  False         Yes       True  \n",
      "100280         No       No   True         Yes      False  \n",
      "\n",
      "[3690 rows x 37 columns]\n"
     ]
    }
   ],
   "execution_count": 179
  },
  {
   "metadata": {
    "ExecuteTime": {
     "end_time": "2025-10-17T12:08:32.324117Z",
     "start_time": "2025-10-17T12:08:32.314086Z"
    }
   },
   "cell_type": "code",
   "source": [
    "# Replace NaN with 'Unknown/Invalid'\n",
    "df_data['discharge_disposition_id'] = df_data['discharge_disposition_id'].fillna('Unknown/Invalid')\n",
    "\n",
    "# Rename the column\n",
    "df_data.rename(columns={'discharge_disposition_id': 'discharge_disposition'}, inplace=True)"
   ],
   "id": "e1240032a3f0d832",
   "outputs": [],
   "execution_count": 181
  },
  {
   "metadata": {
    "ExecuteTime": {
     "end_time": "2025-10-17T12:09:00.372348Z",
     "start_time": "2025-10-17T12:09:00.350990Z"
    }
   },
   "cell_type": "code",
   "source": "print(df_data[df_data['admission_source_id'].isna()])",
   "id": "673f47d3ecbdda66",
   "outputs": [
    {
     "name": "stdout",
     "output_type": "stream",
     "text": [
      "        patient_nbr  gender      age admission_type  \\\n",
      "1039       35740404    Male  [70-80)  Not Available   \n",
      "1079       22942566  Female  [50-60)  Not Available   \n",
      "1102       94466574    Male  [50-60)  Not Available   \n",
      "1108       96198543  Female  [80-90)  Not Available   \n",
      "1117      107892387    Male  [80-90)  Not Available   \n",
      "...             ...     ...      ...            ...   \n",
      "101521     87851016  Female  [70-80)  Not Available   \n",
      "101542     21036033    Male  [70-80)  Not Available   \n",
      "101615    105626313    Male  [60-70)  Not Available   \n",
      "101692     55146366  Female  [50-60)  Not Available   \n",
      "101724    105807996    Male  [60-70)  Not Available   \n",
      "\n",
      "                                    discharge_disposition admission_source_id  \\\n",
      "1039                                   Discharged to home                 NaN   \n",
      "1079    Discharged/transferred to home with home healt...                 NaN   \n",
      "1102                                   Discharged to home                 NaN   \n",
      "1108    Discharged/transferred to another type of inpa...                 NaN   \n",
      "1117    Discharged/transferred to home with home healt...                 NaN   \n",
      "...                                                   ...                 ...   \n",
      "101521                                 Discharged to home                 NaN   \n",
      "101542                                 Discharged to home                 NaN   \n",
      "101615                                 Discharged to home                 NaN   \n",
      "101692  Discharged/transferred to home with home healt...                 NaN   \n",
      "101724  Discharged/transferred to home with home healt...                 NaN   \n",
      "\n",
      "        time_in_hospital  num_lab_procedures  num_procedures  num_medications  \\\n",
      "1039                   4                  63               1               21   \n",
      "1079                  10                  98               5               42   \n",
      "1102                   2                  68               3               15   \n",
      "1108                   9                  74               5               27   \n",
      "1117                   9                  67               1               22   \n",
      "...                  ...                 ...             ...              ...   \n",
      "101521                 2                  50               2               12   \n",
      "101542                 4                  57               3               25   \n",
      "101615                 5                  48               2               25   \n",
      "101692                 4                  38               2               22   \n",
      "101724                 7                  91               4               23   \n",
      "\n",
      "        ...  pioglitazone  rosiglitazone  acarbose miglitol troglitazone  \\\n",
      "1039    ...            No             No        No       No           No   \n",
      "1079    ...            No             No        No       No           No   \n",
      "1102    ...            No             No        No       No           No   \n",
      "1108    ...            No             No        No       No           No   \n",
      "1117    ...            No             No        No       No           No   \n",
      "...     ...           ...            ...       ...      ...          ...   \n",
      "101521  ...            No             No        No       No           No   \n",
      "101542  ...            No             No        No       No           No   \n",
      "101615  ...        Steady             No        No       No           No   \n",
      "101692  ...            No             No        No       No           No   \n",
      "101724  ...            No             No        No       No           No   \n",
      "\n",
      "       tolazamide  insulin change diabetesMed readmitted  \n",
      "1039           No       No   True         Yes       True  \n",
      "1079           No   Steady  False         Yes       True  \n",
      "1102           No   Steady  False         Yes       True  \n",
      "1108           No   Steady   True         Yes       True  \n",
      "1117           No       No   True         Yes       True  \n",
      "...           ...      ...    ...         ...        ...  \n",
      "101521         No       No  False          No      False  \n",
      "101542         No       No  False          No      False  \n",
      "101615         No     Down   True         Yes      False  \n",
      "101692         No     Down   True         Yes      False  \n",
      "101724         No       No  False         Yes      False  \n",
      "\n",
      "[6780 rows x 37 columns]\n"
     ]
    }
   ],
   "execution_count": 182
  },
  {
   "metadata": {
    "ExecuteTime": {
     "end_time": "2025-10-17T12:10:06.884150Z",
     "start_time": "2025-10-17T12:10:06.874485Z"
    }
   },
   "cell_type": "code",
   "source": [
    "# Replace NaN with 'Not Available'\n",
    "df_data['admission_source_id'] = df_data['admission_source_id'].fillna('Not Available')\n",
    "\n",
    "# Rename the column\n",
    "df_data.rename(columns={'admission_source_id': 'admission_source'}, inplace=True)"
   ],
   "id": "9093831eecb0978c",
   "outputs": [],
   "execution_count": 183
  },
  {
   "metadata": {
    "ExecuteTime": {
     "end_time": "2025-10-17T12:11:04.338903Z",
     "start_time": "2025-10-17T12:11:04.226272Z"
    }
   },
   "cell_type": "code",
   "source": "df_data",
   "id": "ad5534af0e861fc9",
   "outputs": [
    {
     "data": {
      "text/plain": [
       "        patient_nbr  gender      age admission_type  \\\n",
       "0           8222157  Female   [0-10)  Not Available   \n",
       "1          55629189  Female  [10-20)      Emergency   \n",
       "2          86047875  Female  [20-30)      Emergency   \n",
       "3          82442376    Male  [30-40)      Emergency   \n",
       "4          42519267    Male  [40-50)      Emergency   \n",
       "...             ...     ...      ...            ...   \n",
       "101761    100162476    Male  [70-80)      Emergency   \n",
       "101762     74694222  Female  [80-90)      Emergency   \n",
       "101763     41088789    Male  [70-80)      Emergency   \n",
       "101764     31693671  Female  [80-90)         Urgent   \n",
       "101765    175429310    Male  [70-80)      Emergency   \n",
       "\n",
       "                discharge_disposition  \\\n",
       "0                          Not Mapped   \n",
       "1                  Discharged to home   \n",
       "2                  Discharged to home   \n",
       "3                  Discharged to home   \n",
       "4                  Discharged to home   \n",
       "...                               ...   \n",
       "101761  Discharged/transferred to SNF   \n",
       "101762  Discharged/transferred to ICF   \n",
       "101763             Discharged to home   \n",
       "101764  Discharged/transferred to SNF   \n",
       "101765             Discharged to home   \n",
       "\n",
       "                                       admission_source  time_in_hospital  \\\n",
       "0                                    Physician Referral                 1   \n",
       "1                                        Emergency Room                 3   \n",
       "2                                        Emergency Room                 2   \n",
       "3                                        Emergency Room                 2   \n",
       "4                                        Emergency Room                 1   \n",
       "...                                                 ...               ...   \n",
       "101761                                   Emergency Room                 3   \n",
       "101762   Transfer from a Skilled Nursing Facility (SNF)                 5   \n",
       "101763                                   Emergency Room                 1   \n",
       "101764                                   Emergency Room                10   \n",
       "101765                                   Emergency Room                 6   \n",
       "\n",
       "        num_lab_procedures  num_procedures  num_medications  ...  \\\n",
       "0                       41               0                1  ...   \n",
       "1                       59               0               18  ...   \n",
       "2                       11               5               13  ...   \n",
       "3                       44               1               16  ...   \n",
       "4                       51               0                8  ...   \n",
       "...                    ...             ...              ...  ...   \n",
       "101761                  51               0               16  ...   \n",
       "101762                  33               3               18  ...   \n",
       "101763                  53               0                9  ...   \n",
       "101764                  45               2               21  ...   \n",
       "101765                  13               3                3  ...   \n",
       "\n",
       "        pioglitazone  rosiglitazone  acarbose miglitol troglitazone  \\\n",
       "0                 No             No        No       No           No   \n",
       "1                 No             No        No       No           No   \n",
       "2                 No             No        No       No           No   \n",
       "3                 No             No        No       No           No   \n",
       "4                 No             No        No       No           No   \n",
       "...              ...            ...       ...      ...          ...   \n",
       "101761            No             No        No       No           No   \n",
       "101762            No             No        No       No           No   \n",
       "101763            No             No        No       No           No   \n",
       "101764        Steady             No        No       No           No   \n",
       "101765            No             No        No       No           No   \n",
       "\n",
       "       tolazamide  insulin change diabetesMed readmitted  \n",
       "0              No       No  False          No      False  \n",
       "1              No       Up   True         Yes       True  \n",
       "2              No       No  False         Yes      False  \n",
       "3              No       Up   True         Yes      False  \n",
       "4              No   Steady   True         Yes      False  \n",
       "...           ...      ...    ...         ...        ...  \n",
       "101761         No     Down   True         Yes       True  \n",
       "101762         No   Steady  False         Yes      False  \n",
       "101763         No     Down   True         Yes      False  \n",
       "101764         No       Up   True         Yes      False  \n",
       "101765         No       No  False          No      False  \n",
       "\n",
       "[101742 rows x 37 columns]"
      ],
      "text/html": [
       "<div>\n",
       "<style scoped>\n",
       "    .dataframe tbody tr th:only-of-type {\n",
       "        vertical-align: middle;\n",
       "    }\n",
       "\n",
       "    .dataframe tbody tr th {\n",
       "        vertical-align: top;\n",
       "    }\n",
       "\n",
       "    .dataframe thead th {\n",
       "        text-align: right;\n",
       "    }\n",
       "</style>\n",
       "<table border=\"1\" class=\"dataframe\">\n",
       "  <thead>\n",
       "    <tr style=\"text-align: right;\">\n",
       "      <th></th>\n",
       "      <th>patient_nbr</th>\n",
       "      <th>gender</th>\n",
       "      <th>age</th>\n",
       "      <th>admission_type</th>\n",
       "      <th>discharge_disposition</th>\n",
       "      <th>admission_source</th>\n",
       "      <th>time_in_hospital</th>\n",
       "      <th>num_lab_procedures</th>\n",
       "      <th>num_procedures</th>\n",
       "      <th>num_medications</th>\n",
       "      <th>...</th>\n",
       "      <th>pioglitazone</th>\n",
       "      <th>rosiglitazone</th>\n",
       "      <th>acarbose</th>\n",
       "      <th>miglitol</th>\n",
       "      <th>troglitazone</th>\n",
       "      <th>tolazamide</th>\n",
       "      <th>insulin</th>\n",
       "      <th>change</th>\n",
       "      <th>diabetesMed</th>\n",
       "      <th>readmitted</th>\n",
       "    </tr>\n",
       "  </thead>\n",
       "  <tbody>\n",
       "    <tr>\n",
       "      <th>0</th>\n",
       "      <td>8222157</td>\n",
       "      <td>Female</td>\n",
       "      <td>[0-10)</td>\n",
       "      <td>Not Available</td>\n",
       "      <td>Not Mapped</td>\n",
       "      <td>Physician Referral</td>\n",
       "      <td>1</td>\n",
       "      <td>41</td>\n",
       "      <td>0</td>\n",
       "      <td>1</td>\n",
       "      <td>...</td>\n",
       "      <td>No</td>\n",
       "      <td>No</td>\n",
       "      <td>No</td>\n",
       "      <td>No</td>\n",
       "      <td>No</td>\n",
       "      <td>No</td>\n",
       "      <td>No</td>\n",
       "      <td>False</td>\n",
       "      <td>No</td>\n",
       "      <td>False</td>\n",
       "    </tr>\n",
       "    <tr>\n",
       "      <th>1</th>\n",
       "      <td>55629189</td>\n",
       "      <td>Female</td>\n",
       "      <td>[10-20)</td>\n",
       "      <td>Emergency</td>\n",
       "      <td>Discharged to home</td>\n",
       "      <td>Emergency Room</td>\n",
       "      <td>3</td>\n",
       "      <td>59</td>\n",
       "      <td>0</td>\n",
       "      <td>18</td>\n",
       "      <td>...</td>\n",
       "      <td>No</td>\n",
       "      <td>No</td>\n",
       "      <td>No</td>\n",
       "      <td>No</td>\n",
       "      <td>No</td>\n",
       "      <td>No</td>\n",
       "      <td>Up</td>\n",
       "      <td>True</td>\n",
       "      <td>Yes</td>\n",
       "      <td>True</td>\n",
       "    </tr>\n",
       "    <tr>\n",
       "      <th>2</th>\n",
       "      <td>86047875</td>\n",
       "      <td>Female</td>\n",
       "      <td>[20-30)</td>\n",
       "      <td>Emergency</td>\n",
       "      <td>Discharged to home</td>\n",
       "      <td>Emergency Room</td>\n",
       "      <td>2</td>\n",
       "      <td>11</td>\n",
       "      <td>5</td>\n",
       "      <td>13</td>\n",
       "      <td>...</td>\n",
       "      <td>No</td>\n",
       "      <td>No</td>\n",
       "      <td>No</td>\n",
       "      <td>No</td>\n",
       "      <td>No</td>\n",
       "      <td>No</td>\n",
       "      <td>No</td>\n",
       "      <td>False</td>\n",
       "      <td>Yes</td>\n",
       "      <td>False</td>\n",
       "    </tr>\n",
       "    <tr>\n",
       "      <th>3</th>\n",
       "      <td>82442376</td>\n",
       "      <td>Male</td>\n",
       "      <td>[30-40)</td>\n",
       "      <td>Emergency</td>\n",
       "      <td>Discharged to home</td>\n",
       "      <td>Emergency Room</td>\n",
       "      <td>2</td>\n",
       "      <td>44</td>\n",
       "      <td>1</td>\n",
       "      <td>16</td>\n",
       "      <td>...</td>\n",
       "      <td>No</td>\n",
       "      <td>No</td>\n",
       "      <td>No</td>\n",
       "      <td>No</td>\n",
       "      <td>No</td>\n",
       "      <td>No</td>\n",
       "      <td>Up</td>\n",
       "      <td>True</td>\n",
       "      <td>Yes</td>\n",
       "      <td>False</td>\n",
       "    </tr>\n",
       "    <tr>\n",
       "      <th>4</th>\n",
       "      <td>42519267</td>\n",
       "      <td>Male</td>\n",
       "      <td>[40-50)</td>\n",
       "      <td>Emergency</td>\n",
       "      <td>Discharged to home</td>\n",
       "      <td>Emergency Room</td>\n",
       "      <td>1</td>\n",
       "      <td>51</td>\n",
       "      <td>0</td>\n",
       "      <td>8</td>\n",
       "      <td>...</td>\n",
       "      <td>No</td>\n",
       "      <td>No</td>\n",
       "      <td>No</td>\n",
       "      <td>No</td>\n",
       "      <td>No</td>\n",
       "      <td>No</td>\n",
       "      <td>Steady</td>\n",
       "      <td>True</td>\n",
       "      <td>Yes</td>\n",
       "      <td>False</td>\n",
       "    </tr>\n",
       "    <tr>\n",
       "      <th>...</th>\n",
       "      <td>...</td>\n",
       "      <td>...</td>\n",
       "      <td>...</td>\n",
       "      <td>...</td>\n",
       "      <td>...</td>\n",
       "      <td>...</td>\n",
       "      <td>...</td>\n",
       "      <td>...</td>\n",
       "      <td>...</td>\n",
       "      <td>...</td>\n",
       "      <td>...</td>\n",
       "      <td>...</td>\n",
       "      <td>...</td>\n",
       "      <td>...</td>\n",
       "      <td>...</td>\n",
       "      <td>...</td>\n",
       "      <td>...</td>\n",
       "      <td>...</td>\n",
       "      <td>...</td>\n",
       "      <td>...</td>\n",
       "      <td>...</td>\n",
       "    </tr>\n",
       "    <tr>\n",
       "      <th>101761</th>\n",
       "      <td>100162476</td>\n",
       "      <td>Male</td>\n",
       "      <td>[70-80)</td>\n",
       "      <td>Emergency</td>\n",
       "      <td>Discharged/transferred to SNF</td>\n",
       "      <td>Emergency Room</td>\n",
       "      <td>3</td>\n",
       "      <td>51</td>\n",
       "      <td>0</td>\n",
       "      <td>16</td>\n",
       "      <td>...</td>\n",
       "      <td>No</td>\n",
       "      <td>No</td>\n",
       "      <td>No</td>\n",
       "      <td>No</td>\n",
       "      <td>No</td>\n",
       "      <td>No</td>\n",
       "      <td>Down</td>\n",
       "      <td>True</td>\n",
       "      <td>Yes</td>\n",
       "      <td>True</td>\n",
       "    </tr>\n",
       "    <tr>\n",
       "      <th>101762</th>\n",
       "      <td>74694222</td>\n",
       "      <td>Female</td>\n",
       "      <td>[80-90)</td>\n",
       "      <td>Emergency</td>\n",
       "      <td>Discharged/transferred to ICF</td>\n",
       "      <td>Transfer from a Skilled Nursing Facility (SNF)</td>\n",
       "      <td>5</td>\n",
       "      <td>33</td>\n",
       "      <td>3</td>\n",
       "      <td>18</td>\n",
       "      <td>...</td>\n",
       "      <td>No</td>\n",
       "      <td>No</td>\n",
       "      <td>No</td>\n",
       "      <td>No</td>\n",
       "      <td>No</td>\n",
       "      <td>No</td>\n",
       "      <td>Steady</td>\n",
       "      <td>False</td>\n",
       "      <td>Yes</td>\n",
       "      <td>False</td>\n",
       "    </tr>\n",
       "    <tr>\n",
       "      <th>101763</th>\n",
       "      <td>41088789</td>\n",
       "      <td>Male</td>\n",
       "      <td>[70-80)</td>\n",
       "      <td>Emergency</td>\n",
       "      <td>Discharged to home</td>\n",
       "      <td>Emergency Room</td>\n",
       "      <td>1</td>\n",
       "      <td>53</td>\n",
       "      <td>0</td>\n",
       "      <td>9</td>\n",
       "      <td>...</td>\n",
       "      <td>No</td>\n",
       "      <td>No</td>\n",
       "      <td>No</td>\n",
       "      <td>No</td>\n",
       "      <td>No</td>\n",
       "      <td>No</td>\n",
       "      <td>Down</td>\n",
       "      <td>True</td>\n",
       "      <td>Yes</td>\n",
       "      <td>False</td>\n",
       "    </tr>\n",
       "    <tr>\n",
       "      <th>101764</th>\n",
       "      <td>31693671</td>\n",
       "      <td>Female</td>\n",
       "      <td>[80-90)</td>\n",
       "      <td>Urgent</td>\n",
       "      <td>Discharged/transferred to SNF</td>\n",
       "      <td>Emergency Room</td>\n",
       "      <td>10</td>\n",
       "      <td>45</td>\n",
       "      <td>2</td>\n",
       "      <td>21</td>\n",
       "      <td>...</td>\n",
       "      <td>Steady</td>\n",
       "      <td>No</td>\n",
       "      <td>No</td>\n",
       "      <td>No</td>\n",
       "      <td>No</td>\n",
       "      <td>No</td>\n",
       "      <td>Up</td>\n",
       "      <td>True</td>\n",
       "      <td>Yes</td>\n",
       "      <td>False</td>\n",
       "    </tr>\n",
       "    <tr>\n",
       "      <th>101765</th>\n",
       "      <td>175429310</td>\n",
       "      <td>Male</td>\n",
       "      <td>[70-80)</td>\n",
       "      <td>Emergency</td>\n",
       "      <td>Discharged to home</td>\n",
       "      <td>Emergency Room</td>\n",
       "      <td>6</td>\n",
       "      <td>13</td>\n",
       "      <td>3</td>\n",
       "      <td>3</td>\n",
       "      <td>...</td>\n",
       "      <td>No</td>\n",
       "      <td>No</td>\n",
       "      <td>No</td>\n",
       "      <td>No</td>\n",
       "      <td>No</td>\n",
       "      <td>No</td>\n",
       "      <td>No</td>\n",
       "      <td>False</td>\n",
       "      <td>No</td>\n",
       "      <td>False</td>\n",
       "    </tr>\n",
       "  </tbody>\n",
       "</table>\n",
       "<p>101742 rows × 37 columns</p>\n",
       "</div>"
      ]
     },
     "execution_count": 186,
     "metadata": {},
     "output_type": "execute_result"
    }
   ],
   "execution_count": 186
  },
  {
   "metadata": {
    "ExecuteTime": {
     "end_time": "2025-10-17T12:16:15.958704Z",
     "start_time": "2025-10-17T12:16:15.854419Z"
    }
   },
   "cell_type": "code",
   "source": [
    "print(df_data['repaglinide'].value_counts())\n",
    "print(df_data['metformin'].value_counts())\n",
    "df_data.drop(columns=['miglitol'], inplace=True) # only No values\n",
    "df_data.drop(columns=['troglitazone'], inplace=True) # only No values\n",
    "df_data.drop(columns=['tolazamide'], inplace=True) # only No values\n",
    "df_data.drop(columns=['acetohexamide'], inplace=True) # only No values\n"
   ],
   "id": "615aa41d72773794",
   "outputs": [
    {
     "name": "stdout",
     "output_type": "stream",
     "text": [
      "repaglinide\n",
      "No        100203\n",
      "Steady      1384\n",
      "Up           110\n",
      "Down          45\n",
      "Name: count, dtype: int64\n",
      "metformin\n",
      "No        81760\n",
      "Steady    18340\n",
      "Up         1067\n",
      "Down        575\n",
      "Name: count, dtype: int64\n"
     ]
    }
   ],
   "execution_count": 189
  },
  {
   "metadata": {
    "ExecuteTime": {
     "end_time": "2025-10-17T12:17:16.185955Z",
     "start_time": "2025-10-17T12:17:16.071019Z"
    }
   },
   "cell_type": "code",
   "source": "df_data",
   "id": "1ff1a1424423e344",
   "outputs": [
    {
     "data": {
      "text/plain": [
       "        patient_nbr  gender      age admission_type  \\\n",
       "0           8222157  Female   [0-10)  Not Available   \n",
       "1          55629189  Female  [10-20)      Emergency   \n",
       "2          86047875  Female  [20-30)      Emergency   \n",
       "3          82442376    Male  [30-40)      Emergency   \n",
       "4          42519267    Male  [40-50)      Emergency   \n",
       "...             ...     ...      ...            ...   \n",
       "101761    100162476    Male  [70-80)      Emergency   \n",
       "101762     74694222  Female  [80-90)      Emergency   \n",
       "101763     41088789    Male  [70-80)      Emergency   \n",
       "101764     31693671  Female  [80-90)         Urgent   \n",
       "101765    175429310    Male  [70-80)      Emergency   \n",
       "\n",
       "                discharge_disposition  \\\n",
       "0                          Not Mapped   \n",
       "1                  Discharged to home   \n",
       "2                  Discharged to home   \n",
       "3                  Discharged to home   \n",
       "4                  Discharged to home   \n",
       "...                               ...   \n",
       "101761  Discharged/transferred to SNF   \n",
       "101762  Discharged/transferred to ICF   \n",
       "101763             Discharged to home   \n",
       "101764  Discharged/transferred to SNF   \n",
       "101765             Discharged to home   \n",
       "\n",
       "                                       admission_source  time_in_hospital  \\\n",
       "0                                    Physician Referral                 1   \n",
       "1                                        Emergency Room                 3   \n",
       "2                                        Emergency Room                 2   \n",
       "3                                        Emergency Room                 2   \n",
       "4                                        Emergency Room                 1   \n",
       "...                                                 ...               ...   \n",
       "101761                                   Emergency Room                 3   \n",
       "101762   Transfer from a Skilled Nursing Facility (SNF)                 5   \n",
       "101763                                   Emergency Room                 1   \n",
       "101764                                   Emergency Room                10   \n",
       "101765                                   Emergency Room                 6   \n",
       "\n",
       "        num_lab_procedures  num_procedures  num_medications  ...  glimepiride  \\\n",
       "0                       41               0                1  ...           No   \n",
       "1                       59               0               18  ...           No   \n",
       "2                       11               5               13  ...           No   \n",
       "3                       44               1               16  ...           No   \n",
       "4                       51               0                8  ...           No   \n",
       "...                    ...             ...              ...  ...          ...   \n",
       "101761                  51               0               16  ...           No   \n",
       "101762                  33               3               18  ...           No   \n",
       "101763                  53               0                9  ...           No   \n",
       "101764                  45               2               21  ...           No   \n",
       "101765                  13               3                3  ...           No   \n",
       "\n",
       "        glipizide  glyburide pioglitazone rosiglitazone acarbose  insulin  \\\n",
       "0              No         No           No            No       No       No   \n",
       "1              No         No           No            No       No       Up   \n",
       "2          Steady         No           No            No       No       No   \n",
       "3              No         No           No            No       No       Up   \n",
       "4          Steady         No           No            No       No   Steady   \n",
       "...           ...        ...          ...           ...      ...      ...   \n",
       "101761         No         No           No            No       No     Down   \n",
       "101762         No         No           No            No       No   Steady   \n",
       "101763         No         No           No            No       No     Down   \n",
       "101764     Steady         No       Steady            No       No       Up   \n",
       "101765         No         No           No            No       No       No   \n",
       "\n",
       "       change diabetesMed readmitted  \n",
       "0       False          No      False  \n",
       "1        True         Yes       True  \n",
       "2       False         Yes      False  \n",
       "3        True         Yes      False  \n",
       "4        True         Yes      False  \n",
       "...       ...         ...        ...  \n",
       "101761   True         Yes       True  \n",
       "101762  False         Yes      False  \n",
       "101763   True         Yes      False  \n",
       "101764   True         Yes      False  \n",
       "101765  False          No      False  \n",
       "\n",
       "[101742 rows x 33 columns]"
      ],
      "text/html": [
       "<div>\n",
       "<style scoped>\n",
       "    .dataframe tbody tr th:only-of-type {\n",
       "        vertical-align: middle;\n",
       "    }\n",
       "\n",
       "    .dataframe tbody tr th {\n",
       "        vertical-align: top;\n",
       "    }\n",
       "\n",
       "    .dataframe thead th {\n",
       "        text-align: right;\n",
       "    }\n",
       "</style>\n",
       "<table border=\"1\" class=\"dataframe\">\n",
       "  <thead>\n",
       "    <tr style=\"text-align: right;\">\n",
       "      <th></th>\n",
       "      <th>patient_nbr</th>\n",
       "      <th>gender</th>\n",
       "      <th>age</th>\n",
       "      <th>admission_type</th>\n",
       "      <th>discharge_disposition</th>\n",
       "      <th>admission_source</th>\n",
       "      <th>time_in_hospital</th>\n",
       "      <th>num_lab_procedures</th>\n",
       "      <th>num_procedures</th>\n",
       "      <th>num_medications</th>\n",
       "      <th>...</th>\n",
       "      <th>glimepiride</th>\n",
       "      <th>glipizide</th>\n",
       "      <th>glyburide</th>\n",
       "      <th>pioglitazone</th>\n",
       "      <th>rosiglitazone</th>\n",
       "      <th>acarbose</th>\n",
       "      <th>insulin</th>\n",
       "      <th>change</th>\n",
       "      <th>diabetesMed</th>\n",
       "      <th>readmitted</th>\n",
       "    </tr>\n",
       "  </thead>\n",
       "  <tbody>\n",
       "    <tr>\n",
       "      <th>0</th>\n",
       "      <td>8222157</td>\n",
       "      <td>Female</td>\n",
       "      <td>[0-10)</td>\n",
       "      <td>Not Available</td>\n",
       "      <td>Not Mapped</td>\n",
       "      <td>Physician Referral</td>\n",
       "      <td>1</td>\n",
       "      <td>41</td>\n",
       "      <td>0</td>\n",
       "      <td>1</td>\n",
       "      <td>...</td>\n",
       "      <td>No</td>\n",
       "      <td>No</td>\n",
       "      <td>No</td>\n",
       "      <td>No</td>\n",
       "      <td>No</td>\n",
       "      <td>No</td>\n",
       "      <td>No</td>\n",
       "      <td>False</td>\n",
       "      <td>No</td>\n",
       "      <td>False</td>\n",
       "    </tr>\n",
       "    <tr>\n",
       "      <th>1</th>\n",
       "      <td>55629189</td>\n",
       "      <td>Female</td>\n",
       "      <td>[10-20)</td>\n",
       "      <td>Emergency</td>\n",
       "      <td>Discharged to home</td>\n",
       "      <td>Emergency Room</td>\n",
       "      <td>3</td>\n",
       "      <td>59</td>\n",
       "      <td>0</td>\n",
       "      <td>18</td>\n",
       "      <td>...</td>\n",
       "      <td>No</td>\n",
       "      <td>No</td>\n",
       "      <td>No</td>\n",
       "      <td>No</td>\n",
       "      <td>No</td>\n",
       "      <td>No</td>\n",
       "      <td>Up</td>\n",
       "      <td>True</td>\n",
       "      <td>Yes</td>\n",
       "      <td>True</td>\n",
       "    </tr>\n",
       "    <tr>\n",
       "      <th>2</th>\n",
       "      <td>86047875</td>\n",
       "      <td>Female</td>\n",
       "      <td>[20-30)</td>\n",
       "      <td>Emergency</td>\n",
       "      <td>Discharged to home</td>\n",
       "      <td>Emergency Room</td>\n",
       "      <td>2</td>\n",
       "      <td>11</td>\n",
       "      <td>5</td>\n",
       "      <td>13</td>\n",
       "      <td>...</td>\n",
       "      <td>No</td>\n",
       "      <td>Steady</td>\n",
       "      <td>No</td>\n",
       "      <td>No</td>\n",
       "      <td>No</td>\n",
       "      <td>No</td>\n",
       "      <td>No</td>\n",
       "      <td>False</td>\n",
       "      <td>Yes</td>\n",
       "      <td>False</td>\n",
       "    </tr>\n",
       "    <tr>\n",
       "      <th>3</th>\n",
       "      <td>82442376</td>\n",
       "      <td>Male</td>\n",
       "      <td>[30-40)</td>\n",
       "      <td>Emergency</td>\n",
       "      <td>Discharged to home</td>\n",
       "      <td>Emergency Room</td>\n",
       "      <td>2</td>\n",
       "      <td>44</td>\n",
       "      <td>1</td>\n",
       "      <td>16</td>\n",
       "      <td>...</td>\n",
       "      <td>No</td>\n",
       "      <td>No</td>\n",
       "      <td>No</td>\n",
       "      <td>No</td>\n",
       "      <td>No</td>\n",
       "      <td>No</td>\n",
       "      <td>Up</td>\n",
       "      <td>True</td>\n",
       "      <td>Yes</td>\n",
       "      <td>False</td>\n",
       "    </tr>\n",
       "    <tr>\n",
       "      <th>4</th>\n",
       "      <td>42519267</td>\n",
       "      <td>Male</td>\n",
       "      <td>[40-50)</td>\n",
       "      <td>Emergency</td>\n",
       "      <td>Discharged to home</td>\n",
       "      <td>Emergency Room</td>\n",
       "      <td>1</td>\n",
       "      <td>51</td>\n",
       "      <td>0</td>\n",
       "      <td>8</td>\n",
       "      <td>...</td>\n",
       "      <td>No</td>\n",
       "      <td>Steady</td>\n",
       "      <td>No</td>\n",
       "      <td>No</td>\n",
       "      <td>No</td>\n",
       "      <td>No</td>\n",
       "      <td>Steady</td>\n",
       "      <td>True</td>\n",
       "      <td>Yes</td>\n",
       "      <td>False</td>\n",
       "    </tr>\n",
       "    <tr>\n",
       "      <th>...</th>\n",
       "      <td>...</td>\n",
       "      <td>...</td>\n",
       "      <td>...</td>\n",
       "      <td>...</td>\n",
       "      <td>...</td>\n",
       "      <td>...</td>\n",
       "      <td>...</td>\n",
       "      <td>...</td>\n",
       "      <td>...</td>\n",
       "      <td>...</td>\n",
       "      <td>...</td>\n",
       "      <td>...</td>\n",
       "      <td>...</td>\n",
       "      <td>...</td>\n",
       "      <td>...</td>\n",
       "      <td>...</td>\n",
       "      <td>...</td>\n",
       "      <td>...</td>\n",
       "      <td>...</td>\n",
       "      <td>...</td>\n",
       "      <td>...</td>\n",
       "    </tr>\n",
       "    <tr>\n",
       "      <th>101761</th>\n",
       "      <td>100162476</td>\n",
       "      <td>Male</td>\n",
       "      <td>[70-80)</td>\n",
       "      <td>Emergency</td>\n",
       "      <td>Discharged/transferred to SNF</td>\n",
       "      <td>Emergency Room</td>\n",
       "      <td>3</td>\n",
       "      <td>51</td>\n",
       "      <td>0</td>\n",
       "      <td>16</td>\n",
       "      <td>...</td>\n",
       "      <td>No</td>\n",
       "      <td>No</td>\n",
       "      <td>No</td>\n",
       "      <td>No</td>\n",
       "      <td>No</td>\n",
       "      <td>No</td>\n",
       "      <td>Down</td>\n",
       "      <td>True</td>\n",
       "      <td>Yes</td>\n",
       "      <td>True</td>\n",
       "    </tr>\n",
       "    <tr>\n",
       "      <th>101762</th>\n",
       "      <td>74694222</td>\n",
       "      <td>Female</td>\n",
       "      <td>[80-90)</td>\n",
       "      <td>Emergency</td>\n",
       "      <td>Discharged/transferred to ICF</td>\n",
       "      <td>Transfer from a Skilled Nursing Facility (SNF)</td>\n",
       "      <td>5</td>\n",
       "      <td>33</td>\n",
       "      <td>3</td>\n",
       "      <td>18</td>\n",
       "      <td>...</td>\n",
       "      <td>No</td>\n",
       "      <td>No</td>\n",
       "      <td>No</td>\n",
       "      <td>No</td>\n",
       "      <td>No</td>\n",
       "      <td>No</td>\n",
       "      <td>Steady</td>\n",
       "      <td>False</td>\n",
       "      <td>Yes</td>\n",
       "      <td>False</td>\n",
       "    </tr>\n",
       "    <tr>\n",
       "      <th>101763</th>\n",
       "      <td>41088789</td>\n",
       "      <td>Male</td>\n",
       "      <td>[70-80)</td>\n",
       "      <td>Emergency</td>\n",
       "      <td>Discharged to home</td>\n",
       "      <td>Emergency Room</td>\n",
       "      <td>1</td>\n",
       "      <td>53</td>\n",
       "      <td>0</td>\n",
       "      <td>9</td>\n",
       "      <td>...</td>\n",
       "      <td>No</td>\n",
       "      <td>No</td>\n",
       "      <td>No</td>\n",
       "      <td>No</td>\n",
       "      <td>No</td>\n",
       "      <td>No</td>\n",
       "      <td>Down</td>\n",
       "      <td>True</td>\n",
       "      <td>Yes</td>\n",
       "      <td>False</td>\n",
       "    </tr>\n",
       "    <tr>\n",
       "      <th>101764</th>\n",
       "      <td>31693671</td>\n",
       "      <td>Female</td>\n",
       "      <td>[80-90)</td>\n",
       "      <td>Urgent</td>\n",
       "      <td>Discharged/transferred to SNF</td>\n",
       "      <td>Emergency Room</td>\n",
       "      <td>10</td>\n",
       "      <td>45</td>\n",
       "      <td>2</td>\n",
       "      <td>21</td>\n",
       "      <td>...</td>\n",
       "      <td>No</td>\n",
       "      <td>Steady</td>\n",
       "      <td>No</td>\n",
       "      <td>Steady</td>\n",
       "      <td>No</td>\n",
       "      <td>No</td>\n",
       "      <td>Up</td>\n",
       "      <td>True</td>\n",
       "      <td>Yes</td>\n",
       "      <td>False</td>\n",
       "    </tr>\n",
       "    <tr>\n",
       "      <th>101765</th>\n",
       "      <td>175429310</td>\n",
       "      <td>Male</td>\n",
       "      <td>[70-80)</td>\n",
       "      <td>Emergency</td>\n",
       "      <td>Discharged to home</td>\n",
       "      <td>Emergency Room</td>\n",
       "      <td>6</td>\n",
       "      <td>13</td>\n",
       "      <td>3</td>\n",
       "      <td>3</td>\n",
       "      <td>...</td>\n",
       "      <td>No</td>\n",
       "      <td>No</td>\n",
       "      <td>No</td>\n",
       "      <td>No</td>\n",
       "      <td>No</td>\n",
       "      <td>No</td>\n",
       "      <td>No</td>\n",
       "      <td>False</td>\n",
       "      <td>No</td>\n",
       "      <td>False</td>\n",
       "    </tr>\n",
       "  </tbody>\n",
       "</table>\n",
       "<p>101742 rows × 33 columns</p>\n",
       "</div>"
      ]
     },
     "execution_count": 192,
     "metadata": {},
     "output_type": "execute_result"
    }
   ],
   "execution_count": 192
  },
  {
   "metadata": {},
   "cell_type": "code",
   "outputs": [],
   "execution_count": null,
   "source": "",
   "id": "13f22eeccf3205d8"
  }
 ],
 "metadata": {
  "kernelspec": {
   "display_name": "Python 3",
   "language": "python",
   "name": "python3"
  },
  "language_info": {
   "codemirror_mode": {
    "name": "ipython",
    "version": 2
   },
   "file_extension": ".py",
   "mimetype": "text/x-python",
   "name": "python",
   "nbconvert_exporter": "python",
   "pygments_lexer": "ipython2",
   "version": "2.7.6"
  }
 },
 "nbformat": 4,
 "nbformat_minor": 5
}
